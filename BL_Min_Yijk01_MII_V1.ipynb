{
 "cells": [
  {
   "cell_type": "code",
   "execution_count": 1,
   "metadata": {},
   "outputs": [],
   "source": [
    "\"\"\"\n",
    "Model II: Version I\n",
    "Y[i,j,k,0] -> same loop\n",
    "Y[i,j,k,1] -> next loop\n",
    "Y[i,i,k,u] == 0\n",
    "Y[i,j,k,1] == 0 if i<j\n",
    "coupled with W variables and additional constraints on Y\n",
    "\"\"\""
   ]
  },
  {
   "cell_type": "code",
   "execution_count": 2,
   "metadata": {},
   "outputs": [],
   "source": [
    "import numpy as np\n",
    "from gurobipy import *\n",
    "import pandas as pd\n",
    "import time"
   ]
  },
  {
   "cell_type": "code",
   "execution_count": 3,
   "metadata": {},
   "outputs": [
    {
     "name": "stdout",
     "output_type": "stream",
     "text": [
      "Academic license - for non-commercial use only\n"
     ]
    }
   ],
   "source": [
    "#m.reset()\n",
    "m = Model(\"target_inventory\")"
   ]
  },
  {
   "cell_type": "code",
   "execution_count": 4,
   "metadata": {},
   "outputs": [],
   "source": [
    "#demand = [20,12] #Demand rate per hour\n",
    "#demand = [10,5]\n",
    "demand = [5,2]\n",
    "prod_rate = [28,23] #Production rate per hour\n",
    "I_zero = [5,10] #Initial Inventory\n",
    "#I_target_low = [500,200] #Target Inventory_lower\n",
    "I_target_low = [500,200]\n",
    "I_target_upper = [2000,500]\n",
    "bcost = [10,2] #backorder cost\n",
    "C = np.array([[10000,5],[4,10000]])\n",
    "loops = 2\n",
    "seq = [1,2]\n",
    "T = 50\n",
    "#define time - is added as variable\n"
   ]
  },
  {
   "cell_type": "code",
   "execution_count": 5,
   "metadata": {},
   "outputs": [],
   "source": [
    "#range of products and loops\n",
    "nprod = range(len(seq))\n",
    "nloops = range(loops)\n",
    "nmloops = range(loops-1)\n",
    "LI = [0,1] #loop indicator -> zero for same, and 1 for next loop "
   ]
  },
  {
   "cell_type": "markdown",
   "metadata": {},
   "source": [
    "# Variable Declaration"
   ]
  },
  {
   "cell_type": "code",
   "execution_count": 6,
   "metadata": {},
   "outputs": [],
   "source": [
    "#Create variables\n",
    "y = m.addVars(nprod,nprod,nloops,LI, vtype = GRB.BINARY, name = \"y\") #to indicate switch from product i to product j\n",
    "z = m.addVars(nprod,nloops, vtype = GRB.BINARY, name = \"z\") #to indicate if m/c has to be setup for i in loop k\n",
    "x = m.addVars(nprod,nloops, vtype = GRB.INTEGER, lb = 0, name = \"x\") #production time of product i in loop k\n",
    "inv_k = m.addVars(nprod,nloops, vtype = GRB.CONTINUOUS, lb = -10000000, name = \"inv_k\") #inventory at the beginning of loop k\n",
    "#rows are products and columns are loops\n",
    "L = m.addVars(nprod,nloops, vtype = GRB.CONTINUOUS,lb = -100000000, name = \"L\") # maximum backlog\n",
    "#T = m.addVar(vtype=GRB.CONTINUOUS, name = \"total_time\")\n",
    "W = m.addVars(nloops, vtype = GRB.BINARY, name = \"W\")#\"Continuous_loop_check\")\n",
    "I_last = m.addVars(nprod, vtype = GRB.CONTINUOUS, name = \"I_final\")\n",
    "\n",
    "#objective is to minimize the total backlog and minimize the production time\n",
    "m.modelSense = GRB.MINIMIZE"
   ]
  },
  {
   "cell_type": "markdown",
   "metadata": {},
   "source": [
    "# Objective Function"
   ]
  },
  {
   "cell_type": "code",
   "execution_count": 7,
   "metadata": {},
   "outputs": [],
   "source": [
    "m.setObjective(sum(bcost[i]*L[i,k] for i in nprod for k in nloops), GRB.MINIMIZE)  #+T removed\n",
    "#is this minimize for each loop or over all loops? Check this for the bi*Li\n",
    "#m.setObjective(sum(C[i,j]*y[i,j,k,u] for i in nprod for j in nprod for k in nloops for u in LPI), GRB.MINIMIZE)\n",
    "    "
   ]
  },
  {
   "cell_type": "markdown",
   "metadata": {},
   "source": [
    "# Constraints"
   ]
  },
  {
   "cell_type": "code",
   "execution_count": 8,
   "metadata": {},
   "outputs": [],
   "source": [
    "#Constraints for backlog Li\n",
    "\n",
    "#backlog should be greater than 0\n",
    "m.addConstrs(L[i,k] >= 0 for i in nprod for k in nloops) \n",
    "\n",
    "#backlog should be greater than the negative of negative inventory - so push it to positive\n",
    "m.addConstrs(L[i,k] >= -inv_k[i, k] for i in nprod for k in nloops);\n",
    "    \n",
    "\n"
   ]
  },
  {
   "cell_type": "code",
   "execution_count": 9,
   "metadata": {},
   "outputs": [],
   "source": [
    "#constraint for initial inventory at beginning of first loop\n",
    "#add changeover time\n",
    "m.addConstrs(inv_k[i,0] == I_zero[i] \n",
    "             - demand[i] *sum(x[j,0] for j in nprod  if j < i)\n",
    "             - demand[i]*sum(C[l,j]*y[l,j,0,0] for j in nprod for l in nprod if l<j if j<=i) for i in nprod); #add changeover time"
   ]
  },
  {
   "cell_type": "code",
   "execution_count": 10,
   "metadata": {},
   "outputs": [],
   "source": [
    "#inventory constraint for every loop for i in nprod  \n",
    "#add changeover time\n",
    "#(loops - 1) is to prevent from going out of range\n",
    "m.addConstrs(inv_k[i, k+1] == inv_k[i,k] + x[i,k]*(prod_rate[i] - demand[i]) - \n",
    "             demand[i]*(((sum(C[l,j]*y[l,j,k,0] for l in nprod if l>=i for j in nprod if j>l) \n",
    "                             + sum(C[l,j]*y[l,j,k,1] for j in nprod if j<=i for l in nprod if l>=i))) \n",
    "                        + sum(C[l,j]*y[l,j,k+1,0] for j in nprod if i>=j for l in nprod  if j>l))\n",
    "             for i in nprod for k in range(loops-1));\n",
    "             \n",
    "                    # demand[i]*sum(x[j, k] for j in nprod if j>i) - demand[i]*sum(x[j, k+1] for j in nprod if j<i) \n",
    "                    # - demand[i]*sum(C[i,j]*y[i,j,k,0] for j in nprod if j>i) \n",
    "                    # - demand[i]*sum(C[i,j]*y[i,j,k,1] for j in nprod if j<i) for i in nprod for k in range(loops - 1));\n",
    "\n",
    "\n",
    "# FIX THE FORMATTING\n",
    "\n",
    "\n",
    "\n"
   ]
  },
  {
   "cell_type": "code",
   "execution_count": 11,
   "metadata": {},
   "outputs": [],
   "source": [
    "#constraint for target inventory - lower bound\n",
    "k_last = loops - 1\n",
    "m.addConstrs(I_target_low[i] <= inv_k[i,k_last] +  x[i,k_last]*(prod_rate[i] - demand[i])\n",
    "             - demand[i] * sum(x[j,k_last] for j in nprod if j > i) \n",
    "             - demand[i]*sum(C[l,j]*y[l,j,k_last,0] for l in nprod if l>=i for j in nprod if j>l) for i in nprod);"
   ]
  },
  {
   "cell_type": "code",
   "execution_count": 12,
   "metadata": {},
   "outputs": [],
   "source": [
    "#constraint for target inventory - upper bound\n",
    "k_last = loops - 1\n",
    "m.addConstrs(I_target_upper[i] >= inv_k[i,k_last] +  x[i,k_last]*(prod_rate[i] - demand[i])\n",
    "             - demand[i] * sum(x[j,k_last] for j in nprod if j > i) \n",
    "             - demand[i]*sum(C[l,j]*y[l,j,k_last,0] for l in nprod if l>=i for j in nprod if j>l) for i in nprod);"
   ]
  },
  {
   "cell_type": "code",
   "execution_count": 13,
   "metadata": {},
   "outputs": [],
   "source": [
    "m.addConstrs(I_last[i] == inv_k[i,k_last] +  x[i,k_last]*(prod_rate[i] - demand[i])\n",
    "             - demand[i] * sum(x[j,k_last] for j in nprod if j > i) \n",
    "             - demand[i]*sum(C[l,j]*y[l,j,k_last,0] for l in nprod if l>=i for j in nprod if j>l) for i in nprod);"
   ]
  },
  {
   "cell_type": "code",
   "execution_count": 14,
   "metadata": {},
   "outputs": [],
   "source": [
    "#constraint on total time including production and changeover\n",
    "#m.addConstr(T>=sum(x[i,k] for i in nprod for k in nloops)+ sum(C[i,j]*y[i,j,k,0] for i in nprod for j in nprod for k in nloops));"
   ]
  },
  {
   "cell_type": "code",
   "execution_count": 15,
   "metadata": {},
   "outputs": [],
   "source": [
    "m.addConstr(T >= sum(x[i,k] for i in nprod for k in nloops) + sum(C[i,j]*y[i,j,k,u] for i in nprod for j in nprod for k in nloops for u in LI));"
   ]
  },
  {
   "cell_type": "code",
   "execution_count": 16,
   "metadata": {},
   "outputs": [],
   "source": [
    "#constraint to check whether i is being produced or not\n",
    "#M_large = 200\n",
    "#for k in nloops:\n",
    " #   m.addConstrs(z[i,k] >= x[i,k]/M_large for i in nprod) \n",
    "#Does this check for exact 0? If not, then adjust the constant\n",
    "#forcing divisor to be a constant - will work if T is not added to the objective function - because if constant then\n",
    "#no sense of adding it to the objective function"
   ]
  },
  {
   "cell_type": "code",
   "execution_count": 17,
   "metadata": {},
   "outputs": [
    {
     "data": {
      "text/plain": [
       "{(0, 0): <gurobi.Constr *Awaiting Model Update*>,\n",
       " (0, 1): <gurobi.Constr *Awaiting Model Update*>,\n",
       " (1, 0): <gurobi.Constr *Awaiting Model Update*>,\n",
       " (1, 1): <gurobi.Constr *Awaiting Model Update*>}"
      ]
     },
     "execution_count": 17,
     "metadata": {},
     "output_type": "execute_result"
    }
   ],
   "source": [
    "m.addConstrs(z[i,k] >= x[i,k]/T for i in nprod for k in nloops) "
   ]
  },
  {
   "cell_type": "code",
   "execution_count": 18,
   "metadata": {},
   "outputs": [],
   "source": [
    "#constraint to set the values of yij for all products where j > i IN THE SAME LOOP\n",
    "\n",
    "m.addConstrs(y[i,j,k,0] >= z[i,k] + z[j,k] - 1 - sum(z[u,k] for u in range(i+1,j-1) if j>i) for j in nprod for i in nprod for k in nloops if j>i);\n",
    "\n",
    "    "
   ]
  },
  {
   "cell_type": "code",
   "execution_count": 19,
   "metadata": {},
   "outputs": [],
   "source": [
    "#constraint to set the values of yij for all products where j < i IN DIFFERENT LOOPS\n",
    "\n",
    "m.addConstrs(y[i,j,k,1] >= z[i,k] + z[j,k+1] - 1 - sum(z[u,k] for u in nprod if u>i) - sum(z[v,k+1] for v in nprod if v<j)\n",
    "                for j in nprod for i in nprod for k in range(loops-1));"
   ]
  },
  {
   "cell_type": "code",
   "execution_count": 20,
   "metadata": {},
   "outputs": [],
   "source": [
    "#Sharat -> 5/14/19\n",
    "\n",
    "m.addConstrs(y[i,j,k,1] == 0 for i in nprod for j in nprod if j>i for k in range(loops-1) );\n",
    "\n",
    "#Observation: Necessary constraint otherwise y[0,1,0,0] and y[0,1,0,1] are being set to 1, which cannot happen. "
   ]
  },
  {
   "cell_type": "code",
   "execution_count": 21,
   "metadata": {},
   "outputs": [],
   "source": [
    "#Sharat -> 5/12/19, This constraint will restrict the changeover between two products i & j to be in the same loop if j>i.\n",
    "\n",
    "#m.addConstrs(y[i,j,k,0] + y[i,j,k,1] <= 1 for i in nprod for j in nprod if j>i for k in nloops); \n",
    "# OR Condition with below const\n",
    "#m.addConstrs(y[i,j,k,0] >= y[i,j,k,1] for i in nprod for j in nprod if j>i for k in nloops); \n",
    "# Supports and linked to preceding constraint"
   ]
  },
  {
   "cell_type": "code",
   "execution_count": 22,
   "metadata": {},
   "outputs": [],
   "source": [
    "#Sharat -> 5/12/19, Constraint to avoid changeover between the same product between different loops\n",
    "\n",
    "m.addConstrs(y[i,i,k,0] == 0 for i in nprod for k in nloops );\n",
    "m.addConstrs(y[i,i,k,1] == 0 for i in nprod for k in range(loops-1) );\n",
    "\n",
    "# INFEASIBILITY FOR 7 LOOPS was due to the above two contraints\n",
    "\n",
    "m.addConstrs(x[i,k] >= z[i,k]*0.1 for i in nprod for k in nloops);\n",
    "\n",
    "#Observation: Necessary constraints without which there could be changeover between same products"
   ]
  },
  {
   "cell_type": "code",
   "execution_count": 23,
   "metadata": {},
   "outputs": [],
   "source": [
    "#constraint to check that loop is not skipped\n",
    "m.addConstr(W[0] == 1);\n",
    "m.addConstrs(W[k] >= z[i,k] for i in nprod for k in nloops);\n",
    "m.addConstrs(W[k] <= sum(z[i,k] for i in nprod) for k in nloops);\n",
    "m.addConstrs(W[k+1] <= W[k] for k in range(loops-1));"
   ]
  },
  {
   "cell_type": "markdown",
   "metadata": {},
   "source": [
    "# Solving the model"
   ]
  },
  {
   "cell_type": "code",
   "execution_count": 24,
   "metadata": {
    "scrolled": true
   },
   "outputs": [
    {
     "name": "stdout",
     "output_type": "stream",
     "text": [
      "Optimize a model with 48 rows, 36 columns and 130 nonzeros\n",
      "Variable types: 10 continuous, 26 integer (22 binary)\n",
      "Coefficient statistics:\n",
      "  Matrix range     [2e-02, 5e+04]\n",
      "  Objective range  [2e+00, 1e+01]\n",
      "  Bounds range     [1e+00, 1e+08]\n",
      "  RHS range        [1e+00, 2e+03]\n",
      "Found heuristic solution: objective 150.0000000\n",
      "Presolve removed 30 rows and 22 columns\n",
      "Presolve time: 0.00s\n",
      "Presolved: 18 rows, 14 columns, 56 nonzeros\n",
      "Variable types: 0 continuous, 14 integer (6 binary)\n",
      "\n",
      "Root relaxation: objective 8.000000e+00, 5 iterations, 0.00 seconds\n",
      "\n",
      "    Nodes    |    Current Node    |     Objective Bounds      |     Work\n",
      " Expl Unexpl |  Obj  Depth IntInf | Incumbent    BestBd   Gap | It/Node Time\n",
      "\n",
      "     0     0    8.00000    0    3  150.00000    8.00000  94.7%     -    0s\n",
      "H    0     0                       8.0000000    8.00000  0.00%     -    0s\n",
      "\n",
      "Explored 1 nodes (5 simplex iterations) in 0.05 seconds\n",
      "Thread count was 8 (of 8 available processors)\n",
      "\n",
      "Solution count 2: 8 150 \n",
      "\n",
      "Optimal solution found (tolerance 1.00e-04)\n",
      "Best objective 8.000000000000e+00, best bound 8.000000000000e+00, gap 0.0000%\n"
     ]
    }
   ],
   "source": [
    "start_time = time.time()\n",
    "m.optimize();\n",
    "end_time = time.time()\n"
   ]
  },
  {
   "cell_type": "code",
   "execution_count": 25,
   "metadata": {},
   "outputs": [
    {
     "name": "stdout",
     "output_type": "stream",
     "text": [
      "y[0,0,0,0] 0.000000\n",
      "y[0,0,0,1] 0.000000\n",
      "y[0,0,1,0] 0.000000\n",
      "y[0,0,1,1] 0.000000\n",
      "y[0,1,0,0] 1.000000\n",
      "y[0,1,0,1] 0.000000\n",
      "y[0,1,1,0] 1.000000\n",
      "y[0,1,1,1] 0.000000\n",
      "y[1,0,0,0] 0.000000\n",
      "y[1,0,0,1] 1.000000\n",
      "y[1,0,1,0] 0.000000\n",
      "y[1,0,1,1] 0.000000\n",
      "y[1,1,0,0] 0.000000\n",
      "y[1,1,0,1] 0.000000\n",
      "y[1,1,1,0] 0.000000\n",
      "y[1,1,1,1] 0.000000\n",
      "z[0,0] 1.000000\n",
      "z[0,1] 1.000000\n",
      "z[1,0] 1.000000\n",
      "z[1,1] 1.000000\n",
      "x[0,0] 2.000000\n",
      "x[0,1] 23.000000\n",
      "x[1,0] 10.000000\n",
      "x[1,1] 1.000000\n",
      "inv_k[0,0] 5.000000\n",
      "inv_k[0,1] 6.000000\n",
      "inv_k[1,0] -4.000000\n",
      "inv_k[1,1] 188.000000\n",
      "L[0,0] 0.000000\n",
      "L[0,1] -0.000000\n",
      "L[1,0] 4.000000\n",
      "L[1,1] 0.000000\n",
      "W[0] 1.000000\n",
      "W[1] 1.000000\n",
      "I_final[0] 505.000000\n",
      "I_final[1] 209.000000\n"
     ]
    }
   ],
   "source": [
    "sol = []\n",
    "for v in m.getVars():\n",
    "    sol.append((v.Varname, v.X))\n",
    "    print(\"%s %f\" % (v.Varname, v.X))\n",
    "    \n",
    "#m.write(\"Backlog_minimization.sol\");"
   ]
  },
  {
   "cell_type": "code",
   "execution_count": 26,
   "metadata": {},
   "outputs": [
    {
     "name": "stdout",
     "output_type": "stream",
     "text": [
      "time taken = 0.05784440040588379\n"
     ]
    }
   ],
   "source": [
    "print(\"time taken = \"+str(end_time-start_time))"
   ]
  },
  {
   "cell_type": "code",
   "execution_count": 27,
   "metadata": {},
   "outputs": [
    {
     "data": {
      "text/plain": [
       "[[0, 1, 0, 0], [1, 0, 0, 1], [0, 1, 1, 0]]"
      ]
     },
     "execution_count": 27,
     "metadata": {},
     "output_type": "execute_result"
    }
   ],
   "source": [
    "#Added by Sharat on 10/18/19 to retrieve only the activated changeover binary variable.\n",
    "\n",
    "#Warning: Need to fix the code to account the first job processing time. \n",
    "#It's right now missing proc time of job 0 in loop 0 for this example.\n",
    "\n",
    "solx=[]\n",
    "solx= m.getAttr('x', x)   \n",
    "soly=[]\n",
    "soly= m.getAttr('x', y)   \n",
    "solz=[]\n",
    "solz= m.getAttr('x', z)   \n",
    "\n",
    "Final_soly =[] \n",
    "Sequence = []\n",
    "proctime = []\n",
    "\n",
    "for k in nloops:\n",
    "    for i in nprod:\n",
    "        for j in nprod:\n",
    "            for L in range(0,2):\n",
    "                if soly[i,j,k,L] == 1:\n",
    "                    Final_soly.append([i,j,k,L])\n",
    "                    Sequence.append([j])\n",
    "                    proctime.append([solx[j,k]])\n",
    "                    \n",
    "Final_soly\n",
    "\n",
    "#Sequence\n",
    "#proctime\n",
    "#print(\"time taken = \"+str(end_time-start_time))"
   ]
  },
  {
   "cell_type": "code",
   "execution_count": 28,
   "metadata": {},
   "outputs": [],
   "source": [
    "df = pd.DataFrame(sol)\n",
    "df.to_csv(\"Solutions_formulation_new.csv\", header = [\"Name\",\"Value\"], index = False)"
   ]
  },
  {
   "cell_type": "code",
   "execution_count": 29,
   "metadata": {},
   "outputs": [],
   "source": [
    "inv_val = [[prod, round(x[prod,loop].X,2),round(inv_k[prod,loop].X,2)] for prod in nprod for loop in nloops]\n",
    "inv_val = np.array(inv_val)"
   ]
  },
  {
   "cell_type": "code",
   "execution_count": 30,
   "metadata": {},
   "outputs": [
    {
     "data": {
      "text/plain": [
       "array([[  0.,   2.,   5.],\n",
       "       [  0.,  23.,   6.],\n",
       "       [  1.,  10.,  -4.],\n",
       "       [  1.,   1., 188.]])"
      ]
     },
     "execution_count": 30,
     "metadata": {},
     "output_type": "execute_result"
    }
   ],
   "source": [
    "inv_val"
   ]
  },
  {
   "cell_type": "code",
   "execution_count": 31,
   "metadata": {},
   "outputs": [],
   "source": [
    "import matplotlib.pyplot as plt"
   ]
  },
  {
   "cell_type": "code",
   "execution_count": 32,
   "metadata": {},
   "outputs": [
    {
     "name": "stdout",
     "output_type": "stream",
     "text": [
      "2.0 5.0\n",
      "23.0 6.0\n"
     ]
    },
    {
     "data": {
      "image/png": "[encoded data removed]",
      "text/plain": [
       "<Figure size 432x288 with 1 Axes>"
      ]
     },
     "metadata": {
      "needs_background": "light"
     },
     "output_type": "display_data"
    }
   ],
   "source": [
    "for item in range(len(inv_val)):\n",
    "    if inv_val[item,0] == 0:\n",
    "        print(inv_val[item,1], inv_val[item,2])\n",
    "        plt.plot(inv_val[item,1], inv_val[item,2], 'ro')\n",
    "plt.show()"
   ]
  },
  {
   "cell_type": "code",
   "execution_count": 33,
   "metadata": {},
   "outputs": [
    {
     "data": {
      "text/plain": [
       "[[0, 1, 0, 0], [1, 0, 0, 1], [0, 1, 1, 0]]"
      ]
     },
     "execution_count": 33,
     "metadata": {},
     "output_type": "execute_result"
    }
   ],
   "source": [
    "#Added by Sharat on 10/18/19 to retrieve only the activated changeover binary variable.\n",
    "\n",
    "#Warning: Need to fix the code to account the first job processing time. \n",
    "#It's right now missing proc time of job 0 in loop 0 for this example.\n",
    "\n",
    "solx=[]\n",
    "solx= m.getAttr('x', x)   \n",
    "soly=[]\n",
    "soly= m.getAttr('x', y)   \n",
    "solz=[]\n",
    "solz= m.getAttr('x', z)   \n",
    "\n",
    "Final_soly =[] \n",
    "Sequence = []\n",
    "proctime = []\n",
    "\n",
    "for k in nloops:\n",
    "    for i in nprod:\n",
    "        for j in nprod:\n",
    "            for L in range(0,2):\n",
    "                if soly[i,j,k,L] == 1:\n",
    "                    Final_soly.append([i,j,k,L])\n",
    "                    Sequence.append([j])\n",
    "                    proctime.append([solx[j,k]])\n",
    "                    \n",
    "Final_soly\n",
    "\n",
    "#Sequence\n",
    "#proctime\n",
    "#print(\"time taken = \"+str(end_time-start_time))"
   ]
  }
 ],
 "metadata": {
  "kernelspec": {
   "display_name": "Python 3",
   "language": "python",
   "name": "python3"
  },
  "language_info": {
   "codemirror_mode": {
    "name": "ipython",
    "version": 3
   },
   "file_extension": ".py",
   "mimetype": "text/x-python",
   "name": "python",
   "nbconvert_exporter": "python",
   "pygments_lexer": "ipython3",
   "version": "3.7.1"
  }
 },
 "nbformat": 4,
 "nbformat_minor": 2
}
