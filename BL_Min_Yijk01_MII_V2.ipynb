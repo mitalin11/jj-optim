{
 "cells": [
  {
   "cell_type": "code",
   "execution_count": 1,
   "metadata": {},
   "outputs": [
    {
     "data": {
      "text/plain": [
       "'\\nModel II: Version 2\\nThis is same as Version 1 except that in the example used, we have a dummy product which ensures that first ever setup cost \\nis also taken into account\\nDummy Product: This is added at the very beginning of all the parameters, refer to ex. below\\n\\n\\nY[i,j,k,0] -> same loop\\nY[i,j,k,1] -> next loop\\nY[i,i,k,u] == 0\\nY[i,j,k,1] == 0 if i<j\\ncoupled with W variables and additional constraints on Y\\n'"
      ]
     },
     "execution_count": 1,
     "metadata": {},
     "output_type": "execute_result"
    }
   ],
   "source": [
    "\"\"\"\n",
    "Model II: Version 2\n",
    "This is same as Version 1 except that in the example used, we have a dummy product which ensures that first ever setup cost \n",
    "is also taken into account\n",
    "Dummy Product: This is added at the very beginning of all the parameters, refer to ex. below\n",
    "\n",
    "Document the code, prepare report, analysis, run it on their samples, prepare ppt, \n",
    "and work on incorporating Time with lagrangian dual\n",
    "\n",
    "Y[i,j,k,0] -> same loop\n",
    "Y[i,j,k,1] -> next loop\n",
    "Y[i,i,k,u] == 0\n",
    "Y[i,j,k,1] == 0 if i<j\n",
    "coupled with W variables and additional constraints on Y\n",
    "\"\"\""
   ]
  },
  {
   "cell_type": "code",
   "execution_count": 3,
   "metadata": {},
   "outputs": [],
   "source": [
    "import numpy as np\n",
    "import pandas as pd"
   ]
  },
  {
   "cell_type": "code",
   "execution_count": 4,
   "metadata": {},
   "outputs": [],
   "source": [
    "from gurobipy import *"
   ]
  },
  {
   "cell_type": "code",
   "execution_count": 5,
   "metadata": {},
   "outputs": [
    {
     "name": "stdout",
     "output_type": "stream",
     "text": [
      "Academic license - for non-commercial use only\n"
     ]
    }
   ],
   "source": [
    "m = Model(\"target_inventory\")"
   ]
  },
  {
   "cell_type": "code",
   "execution_count": 6,
   "metadata": {},
   "outputs": [],
   "source": [
    "m.reset()"
   ]
  },
  {
   "cell_type": "markdown",
   "metadata": {},
   "source": [
    "# Data Reading"
   ]
  },
  {
   "cell_type": "code",
   "execution_count": 14,
   "metadata": {},
   "outputs": [
    {
     "data": {
      "text/plain": [
       "['Parameter',\n",
       " 'Demand',\n",
       " 'Yield_COTime',\n",
       " 'Capacity_SetupCost',\n",
       " 'Capability',\n",
       " 'Assumptions']"
      ]
     },
     "execution_count": 14,
     "metadata": {},
     "output_type": "execute_result"
    }
   ],
   "source": [
    "#using Sample B\n",
    "xl = pd.ExcelFile(r'C:\\Users\\mital\\Desktop\\IOE 590 - Prof. Chao\\Data Files\\Sample Input B.xlsx')\n",
    "xl.sheet_names  # see all sheet names"
   ]
  },
  {
   "cell_type": "code",
   "execution_count": 191,
   "metadata": {},
   "outputs": [],
   "source": [
    "df_pr = xl.parse('Capability')\n",
    "df_dem = xl.parse('Demand')\n",
    "df_co = xl.parse('Yield_COTime')\n",
    "df_pmt = xl.parse('Parameter')"
   ]
  },
  {
   "cell_type": "code",
   "execution_count": 107,
   "metadata": {},
   "outputs": [],
   "source": [
    "#select the line on which to run model - can change to add widget of lines\n",
    "line = 'Line 9'\n",
    "df_prfilt = df_pr[df_pr.LINE == line].reset_index(drop = True)"
   ]
  },
  {
   "cell_type": "code",
   "execution_count": 108,
   "metadata": {
    "scrolled": true
   },
   "outputs": [],
   "source": [
    "df_pd = pd.merge(df_prfilt, df_dem, how='left', left_on='MATNR', right_on='Product')"
   ]
  },
  {
   "cell_type": "code",
   "execution_count": 109,
   "metadata": {},
   "outputs": [
    {
     "data": {
      "text/html": [
       "<div>\n",
       "<style scoped>\n",
       "    .dataframe tbody tr th:only-of-type {\n",
       "        vertical-align: middle;\n",
       "    }\n",
       "\n",
       "    .dataframe tbody tr th {\n",
       "        vertical-align: top;\n",
       "    }\n",
       "\n",
       "    .dataframe thead th {\n",
       "        text-align: right;\n",
       "    }\n",
       "</style>\n",
       "<table border=\"1\" class=\"dataframe\">\n",
       "  <thead>\n",
       "    <tr style=\"text-align: right;\">\n",
       "      <th></th>\n",
       "      <th>PLANT</th>\n",
       "      <th>MATNR</th>\n",
       "      <th>BRAND</th>\n",
       "      <th>LINE</th>\n",
       "      <th>CORE</th>\n",
       "      <th>ProductionRatePerHour</th>\n",
       "      <th>ProductionCost</th>\n",
       "      <th>MinLotSize</th>\n",
       "      <th>MaxLotSize</th>\n",
       "      <th>FractionalPercent</th>\n",
       "      <th>CurrentAssignment</th>\n",
       "      <th>Plant</th>\n",
       "      <th>Product</th>\n",
       "      <th>Brand</th>\n",
       "      <th>WeeklyDemandRate</th>\n",
       "      <th>ProductValue</th>\n",
       "    </tr>\n",
       "  </thead>\n",
       "  <tbody>\n",
       "    <tr>\n",
       "      <th>0</th>\n",
       "      <td>Plant_B</td>\n",
       "      <td>Prod-16076456</td>\n",
       "      <td>Brand_B</td>\n",
       "      <td>Line 9</td>\n",
       "      <td>Core53</td>\n",
       "      <td>19288.87</td>\n",
       "      <td>1</td>\n",
       "      <td>129600.0</td>\n",
       "      <td>1000000000000</td>\n",
       "      <td>NaN</td>\n",
       "      <td>0.167213</td>\n",
       "      <td>Plant_B</td>\n",
       "      <td>Prod-16076456</td>\n",
       "      <td>Brand_B</td>\n",
       "      <td>63525</td>\n",
       "      <td>0.09</td>\n",
       "    </tr>\n",
       "    <tr>\n",
       "      <th>1</th>\n",
       "      <td>Plant_B</td>\n",
       "      <td>Prod-16076457</td>\n",
       "      <td>Brand_B</td>\n",
       "      <td>Line 9</td>\n",
       "      <td>Core53</td>\n",
       "      <td>19288.87</td>\n",
       "      <td>1</td>\n",
       "      <td>129600.0</td>\n",
       "      <td>1000000000000</td>\n",
       "      <td>NaN</td>\n",
       "      <td>0.133333</td>\n",
       "      <td>Plant_B</td>\n",
       "      <td>Prod-16076457</td>\n",
       "      <td>Brand_B</td>\n",
       "      <td>163429</td>\n",
       "      <td>0.09</td>\n",
       "    </tr>\n",
       "    <tr>\n",
       "      <th>2</th>\n",
       "      <td>Plant_B</td>\n",
       "      <td>Prod-16076458</td>\n",
       "      <td>Brand_B</td>\n",
       "      <td>Line 9</td>\n",
       "      <td>Core54</td>\n",
       "      <td>19288.87</td>\n",
       "      <td>1</td>\n",
       "      <td>129600.0</td>\n",
       "      <td>1000000000000</td>\n",
       "      <td>NaN</td>\n",
       "      <td>0.156250</td>\n",
       "      <td>Plant_B</td>\n",
       "      <td>Prod-16076458</td>\n",
       "      <td>Brand_B</td>\n",
       "      <td>181307</td>\n",
       "      <td>0.09</td>\n",
       "    </tr>\n",
       "    <tr>\n",
       "      <th>3</th>\n",
       "      <td>Plant_B</td>\n",
       "      <td>Prod-16076459</td>\n",
       "      <td>Brand_B</td>\n",
       "      <td>Line 9</td>\n",
       "      <td>Core53</td>\n",
       "      <td>19288.87</td>\n",
       "      <td>1</td>\n",
       "      <td>129600.0</td>\n",
       "      <td>1000000000000</td>\n",
       "      <td>NaN</td>\n",
       "      <td>0.121951</td>\n",
       "      <td>Plant_B</td>\n",
       "      <td>Prod-16076459</td>\n",
       "      <td>Brand_B</td>\n",
       "      <td>273602</td>\n",
       "      <td>0.09</td>\n",
       "    </tr>\n",
       "    <tr>\n",
       "      <th>4</th>\n",
       "      <td>Plant_B</td>\n",
       "      <td>Prod-16076460</td>\n",
       "      <td>Brand_B</td>\n",
       "      <td>Line 9</td>\n",
       "      <td>Core53</td>\n",
       "      <td>19288.87</td>\n",
       "      <td>1</td>\n",
       "      <td>129600.0</td>\n",
       "      <td>1000000000000</td>\n",
       "      <td>NaN</td>\n",
       "      <td>0.391304</td>\n",
       "      <td>Plant_B</td>\n",
       "      <td>Prod-16076460</td>\n",
       "      <td>Brand_B</td>\n",
       "      <td>276472</td>\n",
       "      <td>0.09</td>\n",
       "    </tr>\n",
       "  </tbody>\n",
       "</table>\n",
       "</div>"
      ],
      "text/plain": [
       "     PLANT          MATNR    BRAND    LINE    CORE  ProductionRatePerHour  \\\n",
       "0  Plant_B  Prod-16076456  Brand_B  Line 9  Core53               19288.87   \n",
       "1  Plant_B  Prod-16076457  Brand_B  Line 9  Core53               19288.87   \n",
       "2  Plant_B  Prod-16076458  Brand_B  Line 9  Core54               19288.87   \n",
       "3  Plant_B  Prod-16076459  Brand_B  Line 9  Core53               19288.87   \n",
       "4  Plant_B  Prod-16076460  Brand_B  Line 9  Core53               19288.87   \n",
       "\n",
       "   ProductionCost  MinLotSize     MaxLotSize  FractionalPercent  \\\n",
       "0               1    129600.0  1000000000000                NaN   \n",
       "1               1    129600.0  1000000000000                NaN   \n",
       "2               1    129600.0  1000000000000                NaN   \n",
       "3               1    129600.0  1000000000000                NaN   \n",
       "4               1    129600.0  1000000000000                NaN   \n",
       "\n",
       "   CurrentAssignment    Plant        Product    Brand  WeeklyDemandRate  \\\n",
       "0           0.167213  Plant_B  Prod-16076456  Brand_B             63525   \n",
       "1           0.133333  Plant_B  Prod-16076457  Brand_B            163429   \n",
       "2           0.156250  Plant_B  Prod-16076458  Brand_B            181307   \n",
       "3           0.121951  Plant_B  Prod-16076459  Brand_B            273602   \n",
       "4           0.391304  Plant_B  Prod-16076460  Brand_B            276472   \n",
       "\n",
       "   ProductValue  \n",
       "0          0.09  \n",
       "1          0.09  \n",
       "2          0.09  \n",
       "3          0.09  \n",
       "4          0.09  "
      ]
     },
     "execution_count": 109,
     "metadata": {},
     "output_type": "execute_result"
    }
   ],
   "source": [
    "df_pd.head()"
   ]
  },
  {
   "cell_type": "code",
   "execution_count": 124,
   "metadata": {},
   "outputs": [],
   "source": [
    "itkeys = {i:list(df_pd.loc[i,['BRAND','CORE','MATNR']]) for i in range(len(df_pd))}"
   ]
  },
  {
   "cell_type": "code",
   "execution_count": 121,
   "metadata": {
    "collapsed": true
   },
   "outputs": [
    {
     "data": {
      "text/plain": [
       "{0: ['Prod-16076456', 'Brand_B', 'Core53'],\n",
       " 1: ['Prod-16076457', 'Brand_B', 'Core53'],\n",
       " 2: ['Prod-16076458', 'Brand_B', 'Core54'],\n",
       " 3: ['Prod-16076459', 'Brand_B', 'Core53'],\n",
       " 4: ['Prod-16076460', 'Brand_B', 'Core53'],\n",
       " 5: ['Prod-16076461', 'Brand_B', 'Core53'],\n",
       " 6: ['Prod-16076462', 'Brand_B', 'Core53'],\n",
       " 7: ['Prod-16076463', 'Brand_B', 'Core54'],\n",
       " 8: ['Prod-16076464', 'Brand_B', 'Core53'],\n",
       " 9: ['Prod-16076465', 'Brand_B', 'Core53'],\n",
       " 10: ['Prod-16076466', 'Brand_B', 'Core53'],\n",
       " 11: ['Prod-16076467', 'Brand_B', 'Core53'],\n",
       " 12: ['Prod-16076469', 'Brand_B', 'Core53'],\n",
       " 13: ['Prod-16076470', 'Brand_B', 'Core53'],\n",
       " 14: ['Prod-16076474', 'Brand_B', 'Core55'],\n",
       " 15: ['Prod-16076475', 'Brand_B', 'Core55'],\n",
       " 16: ['Prod-16076477', 'Brand_B', 'Core55'],\n",
       " 17: ['Prod-16076478', 'Brand_B', 'Core56'],\n",
       " 18: ['Prod-16076479', 'Brand_B', 'Core56'],\n",
       " 19: ['Prod-16076480', 'Brand_B', 'Core55'],\n",
       " 20: ['Prod-16076482', 'Brand_B', 'Core55'],\n",
       " 21: ['Prod-16076483', 'Brand_B', 'Core55'],\n",
       " 22: ['Prod-16076484', 'Brand_B', 'Core56'],\n",
       " 23: ['Prod-16076485', 'Brand_B', 'Core56'],\n",
       " 24: ['Prod-16076486', 'Brand_B', 'Core56'],\n",
       " 25: ['Prod-16076487', 'Brand_B', 'Core56'],\n",
       " 26: ['Prod-16076489', 'Brand_B', 'Core56'],\n",
       " 27: ['Prod-16076496', 'Brand_B', 'Core50'],\n",
       " 28: ['Prod-16076497', 'Brand_B', 'Core50'],\n",
       " 29: ['Prod-16076498', 'Brand_B', 'Core50'],\n",
       " 30: ['Prod-16076499', 'Brand_B', 'Core50'],\n",
       " 31: ['Prod-16076501', 'Brand_B', 'Core58'],\n",
       " 32: ['Prod-16076503', 'Brand_B', 'Core58'],\n",
       " 33: ['Prod-16076504', 'Brand_B', 'Core58'],\n",
       " 34: ['Prod-16076505', 'Brand_B', 'Core58'],\n",
       " 35: ['Prod-16076506', 'Brand_B', 'Core58'],\n",
       " 36: ['Prod-16076508', 'Brand_B', 'Core58'],\n",
       " 37: ['Prod-16076509', 'Brand_B', 'Core58'],\n",
       " 38: ['Prod-16076512', 'Brand_B', 'Core58'],\n",
       " 39: ['Prod-16130639', 'Brand_C', 'Core106'],\n",
       " 40: ['Prod-16130643', 'Brand_C', 'Core106'],\n",
       " 41: ['Prod-16130645', 'Brand_C', 'Core106'],\n",
       " 42: ['Prod-16130646', 'Brand_C', 'Core106'],\n",
       " 43: ['Prod-16130647', 'Brand_C', 'Core106'],\n",
       " 44: ['Prod-16130648', 'Brand_C', 'Core106'],\n",
       " 45: ['Prod-16130649', 'Brand_C', 'Core106'],\n",
       " 46: ['Prod-16130650', 'Brand_C', 'Core106'],\n",
       " 47: ['Prod-16130653', 'Brand_C', 'Core107'],\n",
       " 48: ['Prod-16130654', 'Brand_C', 'Core107'],\n",
       " 49: ['Prod-16130655', 'Brand_C', 'Core107'],\n",
       " 50: ['Prod-16130657', 'Brand_C', 'Core107'],\n",
       " 51: ['Prod-16130658', 'Brand_C', 'Core107'],\n",
       " 52: ['Prod-16130659', 'Brand_C', 'Core107'],\n",
       " 53: ['Prod-16130660', 'Brand_C', 'Core107'],\n",
       " 54: ['Prod-16130661', 'Brand_C', 'Core107'],\n",
       " 55: ['Prod-16130662', 'Brand_C', 'Core107'],\n",
       " 56: ['Prod-16130663', 'Brand_C', 'Core108'],\n",
       " 57: ['Prod-16130664', 'Brand_C', 'Core108'],\n",
       " 58: ['Prod-16130665', 'Brand_C', 'Core108'],\n",
       " 59: ['Prod-16130666', 'Brand_C', 'Core108'],\n",
       " 60: ['Prod-16130667', 'Brand_C', 'Core108'],\n",
       " 61: ['Prod-16130673', 'Brand_C', 'Core108'],\n",
       " 62: ['Prod-16130703', 'Brand_C', 'Core110'],\n",
       " 63: ['Prod-16130704', 'Brand_C', 'Core111'],\n",
       " 64: ['Prod-16130738', 'Brand_C', 'Core113'],\n",
       " 65: ['Prod-16130768', 'Brand_C', 'Core115']}"
      ]
     },
     "execution_count": 121,
     "metadata": {},
     "output_type": "execute_result"
    }
   ],
   "source": [
    "itkeys"
   ]
  },
  {
   "cell_type": "code",
   "execution_count": 148,
   "metadata": {},
   "outputs": [],
   "source": [
    "#gets the unique brands for the specific line we're optimizing\n",
    "co_matrix = df_co.loc[df_co.Line == line, ['Brand','Micro_COTime', 'Minor_COTime','Major_COTime']].set_index('Brand',verify_integrity = True)"
   ]
  },
  {
   "cell_type": "code",
   "execution_count": 184,
   "metadata": {},
   "outputs": [],
   "source": [
    "n = len(df_pd)\n",
    "cij = np.zeros([n,n])\n",
    "for i in range(n):\n",
    "    for j in range(n):\n",
    "        if itkeys[i][0] != itkeys[j][0]:\n",
    "            cij[i][j] = co_matrix.Major_COTime.max()\n",
    "            #print(\"Diff Brand\",i, j, itkeys[i], itkeys[j], cij[i][j]) #also add minor if diff core and sku\n",
    "        else: \n",
    "            b = itkeys[j][0]\n",
    "            if itkeys[i][1] != itkeys[j][1]:\n",
    "                cij[i][j] = co_matrix.loc[b,'Minor_COTime'] \n",
    "                #print(\"diff core\", i,j, itkeys[i], itkeys[j], cij[i][j])\n",
    "            else:\n",
    "                if itkeys[i][2] != itkeys[j][2]:\n",
    "                    cij[i][j] = co_matrix.loc[b, 'Micro_COTime']\n",
    "                    #print(\"diff sku\", i,j, itkeys[i], itkeys[j], cij[i][j])\n",
    "                #else:\n",
    "                    #print(\"same sku\", i,j, itkeys[i], itkeys[j], cij[i][j]) "
   ]
  },
  {
   "cell_type": "code",
   "execution_count": 117,
   "metadata": {},
   "outputs": [],
   "source": [
    "prod_rate = list(df_pd.ProductionRatePerHour)\n",
    "demand = list(round(df_pd.WeeklyDemandRate/168,3))\n",
    "T = df_pmt.loc[0,'Value'] * 168\n",
    "seq = list(df_prfilt.index)"
   ]
  },
  {
   "cell_type": "code",
   "execution_count": 199,
   "metadata": {},
   "outputs": [],
   "source": [
    "bcost = list(df_pd.ProductValue)"
   ]
  },
  {
   "cell_type": "code",
   "execution_count": 202,
   "metadata": {},
   "outputs": [
    {
     "data": {
      "text/plain": [
       "66"
      ]
     },
     "execution_count": 202,
     "metadata": {},
     "output_type": "execute_result"
    }
   ],
   "source": [
    "nprod = len(seq)\n",
    "loops = 5"
   ]
  },
  {
   "cell_type": "code",
   "execution_count": 186,
   "metadata": {
    "collapsed": true
   },
   "outputs": [
    {
     "data": {
      "text/plain": [
       "[378.125,\n",
       " 972.792,\n",
       " 1079.208,\n",
       " 1628.583,\n",
       " 1645.667,\n",
       " 2233.208,\n",
       " 1812.083,\n",
       " 2183.458,\n",
       " 2087.958,\n",
       " 2320.083,\n",
       " 2282.583,\n",
       " 2355.958,\n",
       " 2153.583,\n",
       " 2089.708,\n",
       " 1364.292,\n",
       " 1478.125,\n",
       " 1778.583,\n",
       " 425.917,\n",
       " 516.958,\n",
       " 793.75,\n",
       " 1413.375,\n",
       " 1888.375,\n",
       " 299.125,\n",
       " 212.5,\n",
       " 161.75,\n",
       " 154.292,\n",
       " 104.5,\n",
       " 52.0,\n",
       " 54.125,\n",
       " 58.667,\n",
       " 51.917,\n",
       " 23.458,\n",
       " 30.958,\n",
       " 49.875,\n",
       " 9.125,\n",
       " 25.625,\n",
       " 97.0,\n",
       " 2.25,\n",
       " 16.625,\n",
       " 83.5,\n",
       " 128.583,\n",
       " 267.875,\n",
       " 233.042,\n",
       " 381.25,\n",
       " 392.875,\n",
       " 466.958,\n",
       " 588.417,\n",
       " 698.667,\n",
       " 577.25,\n",
       " 800.917,\n",
       " 778.125,\n",
       " 832.625,\n",
       " 1002.25,\n",
       " 1045.542,\n",
       " 1084.417,\n",
       " 1045.542,\n",
       " 1112.083,\n",
       " 1048.667,\n",
       " 1100.458,\n",
       " 989.292,\n",
       " 1113.875,\n",
       " 142.417,\n",
       " 15.708,\n",
       " 48.667,\n",
       " 76.333,\n",
       " 16.542]"
      ]
     },
     "execution_count": 186,
     "metadata": {},
     "output_type": "execute_result"
    }
   ],
   "source": [
    "demand"
   ]
  },
  {
   "cell_type": "raw",
   "metadata": {},
   "source": [
    "#demand = [20,12] #Demand rate per hour\n",
    "#demand = [10,5]\n",
    "demand = [0,5,2] #DONE\n",
    "prod_rate = [0,28,23] #Production rate per hour #DONE\n",
    "I_zero = [0,5,10] #Initial Inventory\n",
    "#I_target_low = [500,200] #Target Inventory_lower\n",
    "I_target_low = [0,500,200]\n",
    "I_target_upper = [0,2000,500]\n",
    "bcost = [0,10,2] #backorder cost #DONE - CHECK ORDER\n",
    "C = np.array([[10000, 6, 8],[10000,10000,5],[10000,4,10000]]) # the infinity does not matter until C in incorporated in Obj fn\n",
    "loops = 2 #NFD #DONE\n",
    "seq = [0,1,2] #DONE\n",
    "T = 60 #DONE\n",
    "#\n",
    "#define time - is added as variable\n",
    "#range of products and loops\n",
    "nprod = range(len(seq))\n",
    "nloops = range(loops)\n",
    "nmloops = range(loops-1)\n",
    "LI = [0,1] #loop indicator -> zero for same, and 1 for next loop \n"
   ]
  },
  {
   "cell_type": "markdown",
   "metadata": {},
   "source": [
    "# Variable Declaration"
   ]
  },
  {
   "cell_type": "code",
   "execution_count": 7,
   "metadata": {},
   "outputs": [],
   "source": [
    "#Create variables\n",
    "y = m.addVars(nprod,nprod,nloops,LI, vtype = GRB.BINARY, name = \"y\") #to indicate switch from product i to product j\n",
    "z = m.addVars(nprod,nloops, vtype = GRB.BINARY, name = \"z\") #to indicate if m/c has to be setup for i in loop k\n",
    "x = m.addVars(nprod,nloops, vtype = GRB.INTEGER, lb = 0, name = \"x\") #production time of product i in loop k\n",
    "inv_k = m.addVars(nprod,nloops, vtype = GRB.CONTINUOUS, lb = -10000000, name = \"inv_k\") #inventory at the beginning of loop k\n",
    "#rows are products and columns are loops\n",
    "L = m.addVars(nprod,nloops, vtype = GRB.CONTINUOUS,lb = -100000000, name = \"L\") # maximum backlog\n",
    "#T = m.addVar(vtype=GRB.CONTINUOUS, name = \"total_time\")\n",
    "W = m.addVars(nloops, vtype = GRB.BINARY, name = \"W\")#\"Continuous_loop_check\")\n",
    "I_last = m.addVars(nprod, vtype = GRB.CONTINUOUS, name = \"I_final\")\n",
    "t = m.addVar(vtype = GRB.CONTINUOUS, name = \"total_time\")\n",
    "\n",
    "#objective is to minimize the total backlog and minimize the production time\n",
    "m.modelSense = GRB.MINIMIZE"
   ]
  },
  {
   "cell_type": "markdown",
   "metadata": {},
   "source": [
    "# Objective Function"
   ]
  },
  {
   "cell_type": "code",
   "execution_count": 8,
   "metadata": {},
   "outputs": [],
   "source": [
    "m.setObjective(sum(bcost[i]*L[i,k] for i in nprod for k in nloops), GRB.MINIMIZE)  #+T removed\n",
    "#is this minimize for each loop or over all loops? Check this for the bi*Li\n",
    "#m.setObjective(sum(C[i,j]*y[i,j,k,u] for i in nprod for j in nprod for k in nloops for u in LPI), GRB.MINIMIZE)\n",
    "    "
   ]
  },
  {
   "cell_type": "markdown",
   "metadata": {},
   "source": [
    "# Constraints"
   ]
  },
  {
   "cell_type": "code",
   "execution_count": 9,
   "metadata": {},
   "outputs": [],
   "source": [
    "#Constraints for backlog Li\n",
    "\n",
    "#backlog should be greater than 0\n",
    "m.addConstrs(L[i,k] >= 0 for i in nprod for k in nloops) \n",
    "\n",
    "#backlog should be greater than the negative of negative inventory - so push it to positive\n",
    "m.addConstrs(L[i,k] >= -inv_k[i, k] for i in nprod for k in nloops);\n",
    "    \n",
    "\n"
   ]
  },
  {
   "cell_type": "code",
   "execution_count": 10,
   "metadata": {},
   "outputs": [],
   "source": [
    "#constraint for initial inventory at beginning of first loop\n",
    "#add changeover time\n",
    "m.addConstrs(inv_k[i,0] == I_zero[i] \n",
    "             - demand[i] *sum(x[j,0] for j in nprod  if j < i)\n",
    "             - demand[i]*sum(C[l,j]*y[l,j,0,0] for j in nprod for l in nprod if l<j if j<=i) for i in nprod); #add changeover time"
   ]
  },
  {
   "cell_type": "code",
   "execution_count": 11,
   "metadata": {},
   "outputs": [],
   "source": [
    "#inventory constraint for every loop for i in nprod  \n",
    "#add changeover time\n",
    "#(loops - 1) is to prevent from going out of range\n",
    "m.addConstrs(inv_k[i, k+1] == inv_k[i,k] + x[i,k]*(prod_rate[i] - demand[i]) - \n",
    "             demand[i]*( sum(x[j,k] for j in nprod if j > i) + sum(x[j,k+1] for j in nprod if j < i) + (sum(C[l,j]*y[l,j,k,0] for l in nprod if l>=i for j in nprod if j>l) \n",
    "                             + sum(C[l,j]*y[l,j,k,1] for j in nprod if j<=i for l in nprod if l>=i)) \n",
    "                        + sum(C[l,j]*y[l,j,k+1,0] for j in nprod if i>=j for l in nprod  if j>l))\n",
    "             for i in nprod for k in range(loops-1));\n",
    "             \n",
    "                    # demand[i]*sum(x[j, k] for j in nprod if j>i) - demand[i]*sum(x[j, k+1] for j in nprod if j<i) \n",
    "                    # - demand[i]*sum(C[i,j]*y[i,j,k,0] for j in nprod if j>i) \n",
    "                    # - demand[i]*sum(C[i,j]*y[i,j,k,1] for j in nprod if j<i) for i in nprod for k in range(loops - 1));\n",
    "\n",
    "\n",
    "# FIX THE FORMATTING\n",
    "\n",
    "\n",
    "\n"
   ]
  },
  {
   "cell_type": "code",
   "execution_count": 12,
   "metadata": {},
   "outputs": [],
   "source": [
    "#constraint for target inventory - lower bound\n",
    "k_last = loops - 1\n",
    "m.addConstrs(I_target_low[i] <= inv_k[i,k_last] +  x[i,k_last]*(prod_rate[i] - demand[i])\n",
    "             - demand[i] * sum(x[j,k_last] for j in nprod if j > i) \n",
    "             - demand[i]*sum(C[l,j]*y[l,j,k_last,0] for l in nprod if l>=i for j in nprod if j>l) for i in nprod);"
   ]
  },
  {
   "cell_type": "code",
   "execution_count": 13,
   "metadata": {},
   "outputs": [],
   "source": [
    "#constraint for target inventory - upper bound\n",
    "k_last = loops - 1\n",
    "m.addConstrs(I_target_upper[i] >= inv_k[i,k_last] +  x[i,k_last]*(prod_rate[i] - demand[i])\n",
    "             - demand[i] * sum(x[j,k_last] for j in nprod if j > i) \n",
    "             - demand[i]*sum(C[l,j]*y[l,j,k_last,0] for l in nprod if l>=i for j in nprod if j>l) for i in nprod);"
   ]
  },
  {
   "cell_type": "code",
   "execution_count": 14,
   "metadata": {},
   "outputs": [],
   "source": [
    "m.addConstrs(I_last[i] == inv_k[i,k_last] +  x[i,k_last]*(prod_rate[i] - demand[i])\n",
    "             - demand[i] * sum(x[j,k_last] for j in nprod if j > i) \n",
    "             - demand[i]*sum(C[l,j]*y[l,j,k_last,0] for l in nprod if l>=i for j in nprod if j>l) for i in nprod);"
   ]
  },
  {
   "cell_type": "code",
   "execution_count": 15,
   "metadata": {},
   "outputs": [],
   "source": [
    "#constraint on total time including production and changeover\n",
    "#m.addConstr(T>=sum(x[i,k] for i in nprod for k in nloops)+ sum(C[i,j]*y[i,j,k,0] for i in nprod for j in nprod for k in nloops));"
   ]
  },
  {
   "cell_type": "code",
   "execution_count": 16,
   "metadata": {},
   "outputs": [],
   "source": [
    "m.addConstr(T >= sum(x[i,k] for i in nprod for k in nloops) + sum(C[i,j]*y[i,j,k,u] for i in nprod for j in nprod for k in nloops for u in LI));"
   ]
  },
  {
   "cell_type": "code",
   "execution_count": 17,
   "metadata": {},
   "outputs": [],
   "source": [
    "m.addConstr(t == sum(x[i,k] for i in nprod for k in nloops) + sum(C[i,j]*y[i,j,k,u] for i in nprod for j in nprod for k in nloops for u in LI));"
   ]
  },
  {
   "cell_type": "code",
   "execution_count": 18,
   "metadata": {},
   "outputs": [],
   "source": [
    "#constraint to check whether i is being produced or not\n",
    "#M_large = 200\n",
    "#for k in nloops:\n",
    " #   m.addConstrs(z[i,k] >= x[i,k]/M_large for i in nprod) \n",
    "#Does this check for exact 0? If not, then adjust the constant\n",
    "#forcing divisor to be a constant - will work if T is not added to the objective function - because if constant then\n",
    "#no sense of adding it to the objective function"
   ]
  },
  {
   "cell_type": "code",
   "execution_count": null,
   "metadata": {},
   "outputs": [],
   "source": []
  },
  {
   "cell_type": "code",
   "execution_count": 19,
   "metadata": {
    "collapsed": true
   },
   "outputs": [
    {
     "data": {
      "text/plain": [
       "{(0, 0): <gurobi.Constr *Awaiting Model Update*>,\n",
       " (0, 1): <gurobi.Constr *Awaiting Model Update*>,\n",
       " (1, 0): <gurobi.Constr *Awaiting Model Update*>,\n",
       " (1, 1): <gurobi.Constr *Awaiting Model Update*>,\n",
       " (2, 0): <gurobi.Constr *Awaiting Model Update*>,\n",
       " (2, 1): <gurobi.Constr *Awaiting Model Update*>}"
      ]
     },
     "execution_count": 19,
     "metadata": {},
     "output_type": "execute_result"
    }
   ],
   "source": [
    "m.addConstrs(z[i,k] >= x[i,k]/10 for i in nprod for k in nloops) "
   ]
  },
  {
   "cell_type": "code",
   "execution_count": 20,
   "metadata": {},
   "outputs": [],
   "source": [
    "#constraint to set the values of yij for all products where j > i IN THE SAME LOOP\n",
    "\n",
    "m.addConstrs(y[i,j,k,0] >= z[i,k] + z[j,k] - 1 - sum(z[u,k] for u in range(i+1,j-1) if j>i) for j in nprod for i in nprod for k in nloops if j>i);\n",
    "\n",
    "    "
   ]
  },
  {
   "cell_type": "code",
   "execution_count": 21,
   "metadata": {},
   "outputs": [],
   "source": [
    "#constraint to set the values of yij for all products where j < i IN DIFFERENT LOOPS\n",
    "m.addConstrs(y[i,j,k,1] >= z[i,k] + z[j,k+1] - 1 - sum(z[u,k] for u in nprod if u>i) - sum(z[v,k+1] for v in nprod if v<j)\n",
    "                for j in nprod for i in nprod for k in range(loops-1));"
   ]
  },
  {
   "cell_type": "code",
   "execution_count": 22,
   "metadata": {},
   "outputs": [],
   "source": [
    "#Sharat -> 5/14/19\n",
    "\n",
    "m.addConstrs(y[i,j,k,1] == 0 for i in nprod for j in nprod if j>i for k in range(loops-1) );\n",
    "\n",
    "#Observation: Necessary constraint otherwise y[0,1,0,0] and y[0,1,0,1] are being set to 1, which cannot happen. \n",
    "\n",
    "#Sharat -> 5/22/19 - Version 2 specific\n",
    "\n",
    "m.addConstr(sum(y[0,i,0,0] for i in nprod) == 1);\n",
    "#Observation: There is a 0-2 and then 1-2 changeover... needs an adjacency constraint.\n",
    "m.addConstrs(y[0,i,0,0] >= y[0,j,0,0] for i in nprod if i!=0 for j in nprod if j>i);\n",
    "\n",
    "\n",
    "#m.addConstrs(y[i,0,k,u] == 0 for i in nprod for k in nloops for u in LI);\n",
    "\n",
    "#m.addConstrs(y[0,i,0,0] - y[i,j,0,u] == 0 for i in nprod for j in nprod for u in LI); -> NEEDS another dummy product at the end\n",
    "#Need to find a better way to incorporate it. \n"
   ]
  },
  {
   "cell_type": "code",
   "execution_count": 23,
   "metadata": {},
   "outputs": [],
   "source": [
    "#Sharat -> 5/12/19, This constraint will restrict the changeover between two products i & j to be in the same loop if j>i.\n",
    "\n",
    "#m.addConstrs(y[i,j,k,0] + y[i,j,k,1] <= 1 for i in nprod for j in nprod if j>i for k in nloops); \n",
    "# OR Condition with below const\n",
    "#m.addConstrs(y[i,j,k,0] >= y[i,j,k,1] for i in nprod for j in nprod if j>i for k in nloops); \n",
    "# Supports and linked to preceding constraint"
   ]
  },
  {
   "cell_type": "code",
   "execution_count": 24,
   "metadata": {},
   "outputs": [],
   "source": [
    "#Sharat -> 5/12/19, Constraint to avoid changeover between the same product between different loops\n",
    "\n",
    "m.addConstrs(y[i,i,k,0] == 0 for i in nprod for k in nloops );\n",
    "m.addConstrs(y[i,i,k,1] == 0 for i in nprod for k in range(loops-1) );\n",
    "\n",
    "#Observation: Necessary constraints without which there could be changeover between same products\n",
    "# INFEASIBILITY FOR 7 LOOPS was due to the above two contraints - RESOLVED \n",
    "\n",
    "#m.addConstrs(x[i,k] >= z[i,k]*0.1 for i in nprod for k in nloops);"
   ]
  },
  {
   "cell_type": "code",
   "execution_count": 25,
   "metadata": {},
   "outputs": [],
   "source": [
    "#constraint to check that loop is not skipped\n",
    "m.addConstr(W[0] == 1);\n",
    "m.addConstrs(W[k] >= z[i,k] for i in nprod for k in nloops);\n",
    "m.addConstrs(W[k] <= sum(z[i,k] for i in nprod) for k in nloops);\n",
    "m.addConstrs(W[k+1] <= W[k] for k in range(loops-1));"
   ]
  },
  {
   "cell_type": "markdown",
   "metadata": {},
   "source": [
    "# Solving the model"
   ]
  },
  {
   "cell_type": "code",
   "execution_count": 26,
   "metadata": {
    "collapsed": true
   },
   "outputs": [
    {
     "name": "stdout",
     "output_type": "stream",
     "text": [
      "Optimize a model with 80 rows, 66 columns and 288 nonzeros\n",
      "Variable types: 16 continuous, 50 integer (44 binary)\n",
      "Coefficient statistics:\n",
      "  Matrix range     [2e-02, 5e+04]\n",
      "  Objective range  [2e+00, 1e+01]\n",
      "  Bounds range     [1e+00, 1e+08]\n",
      "  RHS range        [1e+00, 2e+03]\n",
      "Presolve removed 62 rows and 50 columns\n",
      "Presolve time: 0.01s\n",
      "Presolved: 18 rows, 16 columns, 63 nonzeros\n",
      "Variable types: 0 continuous, 16 integer (8 binary)\n",
      "Found heuristic solution: objective 1354.0000000\n",
      "Found heuristic solution: objective 1304.0000000\n",
      "Found heuristic solution: objective 382.0000000\n",
      "\n",
      "Root relaxation: objective 2.927117e+02, 11 iterations, 0.00 seconds\n",
      "\n",
      "    Nodes    |    Current Node    |     Objective Bounds      |     Work\n",
      " Expl Unexpl |  Obj  Depth IntInf | Incumbent    BestBd   Gap | It/Node Time\n",
      "\n",
      "     0     0  292.71173    0    7  382.00000  292.71173  23.4%     -    0s\n",
      "     0     0  297.57202    0    4  382.00000  297.57202  22.1%     -    0s\n",
      "H    0     0                     318.0000000  297.57202  6.42%     -    0s\n",
      "H    0     0                     302.0000000  297.57202  1.47%     -    0s\n",
      "     0     0  302.00000    0    4  302.00000  302.00000  0.00%     -    0s\n",
      "\n",
      "Cutting planes:\n",
      "  Gomory: 1\n",
      "  MIR: 4\n",
      "\n",
      "Explored 1 nodes (17 simplex iterations) in 0.07 seconds\n",
      "Thread count was 8 (of 8 available processors)\n",
      "\n",
      "Solution count 5: 302 318 382 ... 1354\n",
      "\n",
      "Optimal solution found (tolerance 1.00e-04)\n",
      "Best objective 3.020000000000e+02, best bound 3.020000000000e+02, gap 0.0000%\n"
     ]
    }
   ],
   "source": [
    "m.optimize();"
   ]
  },
  {
   "cell_type": "code",
   "execution_count": 27,
   "metadata": {
    "collapsed": true
   },
   "outputs": [
    {
     "name": "stdout",
     "output_type": "stream",
     "text": [
      "y[0,0,0,0] 0.000000\n",
      "y[0,0,0,1] 0.000000\n",
      "y[0,0,1,0] 0.000000\n",
      "y[0,0,1,1] 0.000000\n",
      "y[0,1,0,0] 1.000000\n",
      "y[0,1,0,1] 0.000000\n",
      "y[0,1,1,0] -0.000000\n",
      "y[0,1,1,1] 0.000000\n",
      "y[0,2,0,0] 0.000000\n",
      "y[0,2,0,1] 0.000000\n",
      "y[0,2,1,0] -0.000000\n",
      "y[0,2,1,1] 0.000000\n",
      "y[1,0,0,0] 0.000000\n",
      "y[1,0,0,1] 0.000000\n",
      "y[1,0,1,0] 0.000000\n",
      "y[1,0,1,1] 0.000000\n",
      "y[1,1,0,0] 0.000000\n",
      "y[1,1,0,1] 0.000000\n",
      "y[1,1,1,0] 0.000000\n",
      "y[1,1,1,1] 0.000000\n",
      "y[1,2,0,0] 1.000000\n",
      "y[1,2,0,1] 0.000000\n",
      "y[1,2,1,0] -0.000000\n",
      "y[1,2,1,1] 0.000000\n",
      "y[2,0,0,0] 0.000000\n",
      "y[2,0,0,1] 0.000000\n",
      "y[2,0,1,0] 0.000000\n",
      "y[2,0,1,1] 0.000000\n",
      "y[2,1,0,0] 0.000000\n",
      "y[2,1,0,1] 1.000000\n",
      "y[2,1,1,0] 0.000000\n",
      "y[2,1,1,1] 0.000000\n",
      "y[2,2,0,0] 0.000000\n",
      "y[2,2,0,1] 0.000000\n",
      "y[2,2,1,0] 0.000000\n",
      "y[2,2,1,1] 0.000000\n",
      "z[0,0] 0.000000\n",
      "z[0,1] 0.000000\n",
      "z[1,0] 1.000000\n",
      "z[1,1] 1.000000\n",
      "z[2,0] 1.000000\n",
      "z[2,1] -0.000000\n",
      "x[0,0] 0.000000\n",
      "x[0,1] 0.000000\n",
      "x[1,0] 7.000000\n",
      "x[1,1] 24.000000\n",
      "x[2,0] 14.000000\n",
      "x[2,1] -0.000000\n",
      "inv_k[0,0] 0.000000\n",
      "inv_k[0,1] 0.000000\n",
      "inv_k[1,0] -25.000000\n",
      "inv_k[1,1] 21.000000\n",
      "inv_k[2,0] -26.000000\n",
      "inv_k[2,1] 212.000000\n",
      "L[0,0] 0.000000\n",
      "L[0,1] 0.000000\n",
      "L[1,0] 25.000000\n",
      "L[1,1] -0.000000\n",
      "L[2,0] 26.000000\n",
      "L[2,1] -0.000000\n",
      "W[0] 1.000000\n",
      "W[1] 1.000000\n",
      "I_final[0] 0.000000\n",
      "I_final[1] 573.000000\n",
      "I_final[2] 212.000000\n",
      "total_time 60.000000\n"
     ]
    }
   ],
   "source": [
    "sol = []\n",
    "for v in m.getVars():\n",
    "    sol.append((v.Varname, v.X))\n",
    "    print(\"%s %f\" % (v.Varname, v.X))\n",
    "    \n",
    " \n",
    "    \n",
    "#m.write(\"Backlog_minimization.sol\");"
   ]
  },
  {
   "cell_type": "code",
   "execution_count": 28,
   "metadata": {},
   "outputs": [],
   "source": [
    "df = pd.DataFrame(sol)\n",
    "df.to_csv(\"Solutions_formulation_new.csv\", header = [\"Name\",\"Value\"], index = False)"
   ]
  },
  {
   "cell_type": "markdown",
   "metadata": {},
   "source": [
    "# Plotting the solution"
   ]
  },
  {
   "cell_type": "code",
   "execution_count": 29,
   "metadata": {},
   "outputs": [],
   "source": [
    "inv_val = [[prod, round(x[prod,loop].X,2),round(inv_k[prod,loop].X,2)] for prod in nprod for loop in nloops]\n",
    "inv_val = np.array(inv_val)"
   ]
  },
  {
   "cell_type": "code",
   "execution_count": 30,
   "metadata": {},
   "outputs": [
    {
     "data": {
      "text/plain": [
       "array([[  0.,   0.,   0.],\n",
       "       [  0.,   0.,   0.],\n",
       "       [  1.,   7., -25.],\n",
       "       [  1.,  24.,  21.],\n",
       "       [  2.,  14., -26.],\n",
       "       [  2.,  -0., 212.]])"
      ]
     },
     "execution_count": 30,
     "metadata": {},
     "output_type": "execute_result"
    }
   ],
   "source": [
    "inv_val"
   ]
  },
  {
   "cell_type": "code",
   "execution_count": 31,
   "metadata": {},
   "outputs": [],
   "source": [
    "import matplotlib.pyplot as plt"
   ]
  },
  {
   "cell_type": "code",
   "execution_count": 32,
   "metadata": {
    "collapsed": true
   },
   "outputs": [
    {
     "name": "stdout",
     "output_type": "stream",
     "text": [
      "0.0 0.0\n",
      "0.0 0.0\n"
     ]
    },
    {
     "data": {
      "image/png": "[encoded data removed]",
      "text/plain": [
       "<Figure size 432x288 with 1 Axes>"
      ]
     },
     "metadata": {
      "needs_background": "light"
     },
     "output_type": "display_data"
    }
   ],
   "source": [
    "for item in range(len(inv_val)):\n",
    "    if inv_val[item,0] == 0:\n",
    "        print(inv_val[item,1], inv_val[item,2])\n",
    "        plt.plot(inv_val[item,1], inv_val[item,2], 'ro')\n",
    "plt.show()"
   ]
  }
 ],
 "metadata": {
  "kernelspec": {
   "display_name": "Python 3",
   "language": "python",
   "name": "python3"
  },
  "language_info": {
   "codemirror_mode": {
    "name": "ipython",
    "version": 3
   },
   "file_extension": ".py",
   "mimetype": "text/x-python",
   "name": "python",
   "nbconvert_exporter": "python",
   "pygments_lexer": "ipython3",
   "version": "3.7.1"
  }
 },
 "nbformat": 4,
 "nbformat_minor": 2
}
