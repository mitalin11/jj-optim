{
 "cells": [
  {
   "cell_type": "code",
   "execution_count": 1,
   "metadata": {},
   "outputs": [
    {
     "data": {
      "text/plain": [
       "'\\nOverall Backlog Minimization - LP Model:\\n\\nThis linear optimization model tries to minimize the sum of the weighted backlog of all products. \\n\\nInput:\\nDemand Rate \\nProduction Rate\\nYield of line/product\\nMinimum Lot Size\\nInitial Inventory Level\\nTarget Inventory Level/Range\\nBacklog cost/value (weight)\\nSequence dependent changeover time between products\\nMaximum makespan/cycle time allowed.\\n\\nObjective:\\nTo minimize the overall weighted backlog\\nTo ending inventory is in the target inventory range for all products\\n\\nDecision Variables:\\n    Major decision variables:\\ny[i,j,k,0] -> Binary variable. 1 if there is a changeover from product i to j in the same loop, 0 o/w\\ny[i,j,k,1] -> Binary variable. 1 if there is a changeover from product i to j in the subsequent loop, 0 o/w\\nx[i,k] -> Production time of product i in loop k\\n    \\n    Supporting decision variables:\\nz[i,k] -> Binary variable. 1 if product i is produced in loop k, 0 o/w\\nW[k] -> Binary variable. 1 if loop k is used\\n\\n\\nOutput:\\nFinal Inventory level of all products {I_last}\\nActual makespan or cycle time (t)\\nProduction Schedule (x[i,k], y[i,j,k,1 or 0])\\n\\nObservations:\\n1. This model takes the first ever setup time into account as well which gives a more accurate result. \\nThis is acheived by adding a dummy product at the beginning of the operation. \\nThe features of the dummy product are listed below,\\n    1. demand rate = 0\\n    2. production rate = 0\\n    3. Min lot size = 0\\n    4. backlog cost or product value = 0\\n    5. Changeover time from any product to product zero = infinity and changeover from zero to any other product is zero.\\n       Changeover time from product zero to zero = 0\\n\\n\\n2. Yield rate has not been implemented. It can be used for setting m/c utiliation as well. \\n\\n3. Max lot size has not been implemented. We observed that max lot size is usually in the millions, hence, we thought we \\nassumed it is not required. \\n\\nThere is already a constraint in place to check for maximum lot size, however, we are not using it to reduce the number \\nof constraints (a feeble effort to reduce time complexity)\\n\\nSimilarly we have a constraint for two (yield rate) as well. However, we have not implemented in this model as it is not an \\nimportant aspect of testing the model. \\n\\n'"
      ]
     },
     "execution_count": 1,
     "metadata": {},
     "output_type": "execute_result"
    }
   ],
   "source": [
    "\"\"\"\n",
    "Overall Backlog Minimization - LP Model:\n",
    "\n",
    "This linear optimization model tries to minimize the sum of the weighted backlog of all products. \n",
    "\n",
    "Input:\n",
    "Demand Rate \n",
    "Production Rate\n",
    "Yield of line/product\n",
    "Minimum Lot Size\n",
    "Initial Inventory Level\n",
    "Target Inventory Level/Range\n",
    "Backlog cost/value (weight)\n",
    "Sequence dependent changeover time between products\n",
    "Maximum makespan/cycle time allowed.\n",
    "\n",
    "Objective:\n",
    "To minimize the overall weighted backlog\n",
    "To ending inventory is in the target inventory range for all products\n",
    "\n",
    "Decision Variables:\n",
    "    Major decision variables:\n",
    "y[i,j,k,0] -> Binary variable. 1 if there is a changeover from product i to j in the same loop, 0 o/w\n",
    "y[i,j,k,1] -> Binary variable. 1 if there is a changeover from product i to j in the subsequent loop, 0 o/w\n",
    "x[i,k] -> Production time of product i in loop k\n",
    "    \n",
    "    Supporting decision variables:\n",
    "z[i,k] -> Binary variable. 1 if product i is produced in loop k, 0 o/w\n",
    "W[k] -> Binary variable. 1 if loop k is used\n",
    "\n",
    "\n",
    "Output:\n",
    "Final Inventory level of all products {I_last}\n",
    "Actual makespan or cycle time (t)\n",
    "Production Schedule (x[i,k], y[i,j,k,1 or 0])\n",
    "\n",
    "Observations:\n",
    "1. This model takes the first ever setup time into account as well which gives a more accurate result. \n",
    "This is acheived by adding a dummy product at the beginning of the operation. \n",
    "The features of the dummy product are listed below,\n",
    "    1. demand rate = 0\n",
    "    2. production rate = 0\n",
    "    3. Min lot size = 0\n",
    "    4. backlog cost or product value = 0\n",
    "    5. Changeover time from any product to product zero = infinity and changeover from zero to any other product is zero.\n",
    "       Changeover time from product zero to zero = 0\n",
    "\n",
    "\n",
    "2. Yield rate has not been implemented. It can be used for setting m/c utiliation as well. \n",
    "\n",
    "3. Max lot size has not been implemented. We observed that max lot size is usually in the millions, hence, we thought we \n",
    "assumed it is not required. \n",
    "\n",
    "There is already a constraint in place to check for maximum lot size, however, we are not using it to reduce the number \n",
    "of constraints (a feeble effort to reduce time complexity)\n",
    "\n",
    "Similarly we have a constraint for two (yield rate) as well. However, we have not implemented in this model as it is not an \n",
    "important aspect of testing the model. \n",
    "\n",
    "\"\"\""
   ]
  },
  {
   "cell_type": "code",
   "execution_count": 2,
   "metadata": {},
   "outputs": [],
   "source": [
    "#There may be instances where you would have to set target inventory to even negative to allow for backlog at the end of the season. \n",
    "# we did discuss removing them altogehter .... see how that goes.... h"
   ]
  },
  {
   "cell_type": "code",
   "execution_count": 3,
   "metadata": {},
   "outputs": [],
   "source": [
    "import numpy as np\n",
    "from gurobipy import *\n",
    "import pandas as pd\n",
    "import time"
   ]
  },
  {
   "cell_type": "code",
   "execution_count": 4,
   "metadata": {},
   "outputs": [
    {
     "name": "stdout",
     "output_type": "stream",
     "text": [
      "Academic license - for non-commercial use only\n"
     ]
    }
   ],
   "source": [
    "m = Model(\"target_inventory\")"
   ]
  },
  {
   "cell_type": "code",
   "execution_count": 5,
   "metadata": {},
   "outputs": [],
   "source": [
    "#Instance with dummy Product\n",
    "demand = [0,5,2]\n",
    "prod_rate = [0,28,23] #Production rate per hour\n",
    "I_zero = [0,5,10] #Initial Inventory\n",
    "Y = [0.75,0.75,0.75] #yield for product i\n",
    "Min_lot = [0,20,20]\n",
    "#I_target_low = [500,200] #Target Inventory_lower\n",
    "I_target_low = [0,500,200]\n",
    "I_target_upper = [5,2000,500]\n",
    "bcost = [0,10,2] #backorder cost\n",
    "C = np.array([[0, 0, 0],[0,10000,5],[0,4,10000]]) # the infinity does not matter until C is incorporated in Obj fn\n",
    "loops = 2\n",
    "prods = [1,2,3]\n",
    "T = 1000\n",
    "#define time - is added as variable\n"
   ]
  },
  {
   "cell_type": "code",
   "execution_count": 6,
   "metadata": {},
   "outputs": [],
   "source": [
    "#range of products and loops\n",
    "nprod = range(len(prods)) #for products\n",
    "nloops = range(loops) #for loops\n",
    "nmloops = range(loops-1) #for subsequent loops -> not used anywhere\n",
    "LI = [0,1] #loop indicator -> zero for same, and 1 for next loop "
   ]
  },
  {
   "cell_type": "markdown",
   "metadata": {},
   "source": [
    "# Variable Declaration"
   ]
  },
  {
   "cell_type": "code",
   "execution_count": 7,
   "metadata": {},
   "outputs": [],
   "source": [
    "y = m.addVars(nprod,nprod,nloops,LI, vtype = GRB.BINARY, name = \"y\") #to indicate switch from product i to product j\n",
    "z = m.addVars(nprod,nloops, vtype = GRB.BINARY, name = \"z\") #to indicate if m/c has to be setup for product i in loop k\n",
    "x = m.addVars(nprod,nloops, vtype = GRB.INTEGER, lb = 0, name = \"x\") #production time of product i in loop k\n",
    "inv_k = m.addVars(nprod,nloops, vtype = GRB.CONTINUOUS, lb = -10000000, name = \"inv_k\") #inventory at the beginning of loop k\n",
    "#rows are products and columns are loops\n",
    "L = m.addVars(nprod,nloops, vtype = GRB.CONTINUOUS,lb = -100000000, name = \"L\") # maximum backlog\n",
    "#T = m.addVar(vtype=GRB.CONTINUOUS, name = \"total_time\")\n",
    "W = m.addVars(nloops, vtype = GRB.BINARY, name = \"W\")#\"Continuous_loop_check\")\n",
    "I_last = m.addVars(nprod, vtype = GRB.CONTINUOUS, name = \"I_final\")\n",
    "t = m.addVar(vtype =GRB.CONTINUOUS, name = \"cycle time\")"
   ]
  },
  {
   "cell_type": "markdown",
   "metadata": {},
   "source": [
    "# Objective Function"
   ]
  },
  {
   "cell_type": "code",
   "execution_count": 8,
   "metadata": {},
   "outputs": [],
   "source": [
    "#Objective Function: Weighted backlog 1|s_{jk}|\\sum_{i \\in [n]}b_{i}L_{i} \n",
    "m.setObjective(sum(bcost[i]*L[i,k] for i in nprod for k in nloops), GRB.MINIMIZE)  #+T removed "
   ]
  },
  {
   "cell_type": "markdown",
   "metadata": {},
   "source": [
    "# Constraints"
   ]
  },
  {
   "cell_type": "code",
   "execution_count": 9,
   "metadata": {},
   "outputs": [],
   "source": [
    "#Constraints for backlog Li\n",
    "\n",
    "#backlog should be greater than 0\n",
    "m.addConstrs(L[i,k] >= 0 for i in nprod for k in nloops) \n",
    "\n",
    "#backlog should be greater than the negative of negative inventory so that it forces it be a positive\n",
    "m.addConstrs(L[i,k] >= -inv_k[i, k] for i in nprod for k in nloops);"
   ]
  },
  {
   "cell_type": "code",
   "execution_count": 10,
   "metadata": {},
   "outputs": [],
   "source": [
    "#constraint for initial inventory at beginning of first loop\n",
    "m.addConstrs(inv_k[i,0] == I_zero[i] \n",
    "             - demand[i] *sum(x[j,0] for j in nprod  if j < i)\n",
    "             - demand[i]*sum(C[l,j]*y[l,j,0,0] for j in nprod for l in nprod if l<j if j<=i) for i in nprod);"
   ]
  },
  {
   "cell_type": "code",
   "execution_count": 11,
   "metadata": {},
   "outputs": [],
   "source": [
    "m.addConstrs(inv_k[i, k+1] == inv_k[i,k] + x[i,k]*(prod_rate[i] - demand[i])\n",
    "             - demand[i]*(sum(x[j,k] for j in nprod if j >i) + sum(x[j,k+1] for j in nprod if j<i)\n",
    "                         + (sum(C[l,j]*y[l,j,k,0] for l in nprod if l>=i for j in nprod if j>l)\n",
    "                          + sum(C[l,j]*y[l,j,k,1] for j in nprod if j<=i for l in nprod if l>=i))\n",
    "                         + sum(C[l,j]*y[l,j,k+1,0] for j in nprod for l in nprod if i>=j>l))\n",
    "             for i in nprod for k in range(loops-1));"
   ]
  },
  {
   "cell_type": "code",
   "execution_count": 12,
   "metadata": {},
   "outputs": [],
   "source": [
    "#constraint for target inventory - lower bound\n",
    "k_last = loops - 1\n",
    "m.addConstrs(I_target_low[i] <= inv_k[i,k_last] +  x[i,k_last]*(prod_rate[i] - demand[i])\n",
    "             - demand[i] * sum(x[j,k_last] for j in nprod if j > i) \n",
    "             - demand[i]*sum(C[l,j]*y[l,j,k_last,0] for l in nprod if l>=i for j in nprod if j>l) for i in nprod);"
   ]
  },
  {
   "cell_type": "code",
   "execution_count": 13,
   "metadata": {},
   "outputs": [],
   "source": [
    "#constraint for target inventory - upper bound\n",
    "k_last = loops - 1\n",
    "m.addConstrs(I_target_upper[i] >= inv_k[i,k_last] +  x[i,k_last]*(prod_rate[i] - demand[i])\n",
    "             - demand[i] * sum(x[j,k_last] for j in nprod if j > i) \n",
    "             - demand[i]*sum(C[l,j]*y[l,j,k_last,0] for l in nprod if l>=i for j in nprod if j>l) for i in nprod);"
   ]
  },
  {
   "cell_type": "code",
   "execution_count": 14,
   "metadata": {},
   "outputs": [],
   "source": [
    "#Final inventory level - the last loop\n",
    "m.addConstrs(I_last[i] == inv_k[i,k_last] +  x[i,k_last]*(prod_rate[i] - demand[i])\n",
    "             - demand[i] * sum(x[j,k_last] for j in nprod if j > i) \n",
    "             - demand[i]*sum(C[l,j]*y[l,j,k_last,0] for l in nprod if l>=i for j in nprod if j>l) for i in nprod);"
   ]
  },
  {
   "cell_type": "code",
   "execution_count": 15,
   "metadata": {},
   "outputs": [],
   "source": [
    "#Constraint to ensure that the makespan is less than the desired cycle time T\n",
    "m.addConstr(T >= sum(x[i,k] for i in nprod for k in nloops) + sum(C[i,j]*y[i,j,k,u] for i in nprod for j in nprod for k in nloops for u in LI));\n",
    "\n",
    "#Constraint to record the actual makespan or cycle time \n",
    "m.addConstr(t == sum(x[i,k] for i in nprod for k in nloops) + sum(C[i,j]*y[i,j,k,u] for i in nprod for j in nprod for k in nloops for u in LI));\n"
   ]
  },
  {
   "cell_type": "code",
   "execution_count": 16,
   "metadata": {},
   "outputs": [
    {
     "data": {
      "text/plain": [
       "{(0, 0): <gurobi.Constr *Awaiting Model Update*>,\n",
       " (0, 1): <gurobi.Constr *Awaiting Model Update*>,\n",
       " (1, 0): <gurobi.Constr *Awaiting Model Update*>,\n",
       " (1, 1): <gurobi.Constr *Awaiting Model Update*>,\n",
       " (2, 0): <gurobi.Constr *Awaiting Model Update*>,\n",
       " (2, 1): <gurobi.Constr *Awaiting Model Update*>}"
      ]
     },
     "execution_count": 16,
     "metadata": {},
     "output_type": "execute_result"
    }
   ],
   "source": [
    "#Constraint to record if product i has been produced in loop k through binary variable z\n",
    "m.addConstrs(z[i,k] >= x[i,k]/T for i in nprod for k in nloops) "
   ]
  },
  {
   "cell_type": "code",
   "execution_count": 1,
   "metadata": {},
   "outputs": [
    {
     "ename": "NameError",
     "evalue": "name 'm' is not defined",
     "output_type": "error",
     "traceback": [
      "\u001b[1;31m---------------------------------------------------------------------------\u001b[0m",
      "\u001b[1;31mNameError\u001b[0m                                 Traceback (most recent call last)",
      "\u001b[1;32m<ipython-input-1-9598835076db>\u001b[0m in \u001b[0;36m<module>\u001b[1;34m\u001b[0m\n\u001b[1;32m----> 1\u001b[1;33m \u001b[0mm\u001b[0m\u001b[1;33m.\u001b[0m\u001b[0maddConstrs\u001b[0m\u001b[1;33m(\u001b[0m\u001b[0mx\u001b[0m\u001b[1;33m[\u001b[0m\u001b[0mi\u001b[0m\u001b[1;33m,\u001b[0m\u001b[0mk\u001b[0m\u001b[1;33m]\u001b[0m \u001b[1;33m>=\u001b[0m \u001b[0mz\u001b[0m\u001b[1;33m[\u001b[0m\u001b[0mi\u001b[0m\u001b[1;33m,\u001b[0m\u001b[0mk\u001b[0m\u001b[1;33m]\u001b[0m\u001b[1;33m*\u001b[0m\u001b[0mI_target_low\u001b[0m\u001b[1;33m[\u001b[0m\u001b[0mi\u001b[0m\u001b[1;33m]\u001b[0m \u001b[1;32mfor\u001b[0m \u001b[0mi\u001b[0m \u001b[1;32min\u001b[0m \u001b[0mnprod\u001b[0m \u001b[1;32mfor\u001b[0m \u001b[0mk\u001b[0m \u001b[1;32min\u001b[0m \u001b[0mnloops\u001b[0m\u001b[1;33m)\u001b[0m\u001b[1;33m\u001b[0m\u001b[1;33m\u001b[0m\u001b[0m\n\u001b[0m",
      "\u001b[1;31mNameError\u001b[0m: name 'm' is not defined"
     ]
    }
   ],
   "source": [
    "m.addConstrs(x[i,k] >= z[i,k]*I_target_low[i] for i in nprod for k in nloops)"
   ]
  },
  {
   "cell_type": "code",
   "execution_count": 17,
   "metadata": {},
   "outputs": [],
   "source": [
    "#constraint to set the values of yij for all products where j > i IN THE SAME LOOP\n",
    "\n",
    "#m.addConstrs(y[i,j,k,0] >= z[i,k] + z[j,k] - 1 - sum(z[u,k] for u in range(i+1,j-1) if j>i) for j in nprod for i in nprod for k in nloops if j>i);\n",
    "\n",
    "#constraint to set the values of yij for all products where j > i IN THE SAME LOOP\n",
    "#m.addConstrs(y[i,j,k,0] >= z[i,k] + z[j,k] - 1 - sum(z[u,k] for u in range(i+1,j) if j>i) for j in nprod for i in nprod for k in nloops if j>i);\n",
    "\n",
    "#Below Changes added on 11/14/19\n",
    "#Constraint to set the values of y[ijk0] for all products where j > i, in the same loop\n",
    "m.addConstrs(y[i,j,k,0] >= z[i,k] + z[j,k] - 1 - sum(z[u,k] for u in range(i+1,j) if j>i if j!=i+1) for j in nprod for i in nprod for k in nloops if j>i);\n",
    "\n",
    "m.addConstrs(y[i,j,k,0] >= z[i,k] + z[j,k] - 1 for j in nprod for i in nprod for k in nloops if j>i if j==i+1);"
   ]
  },
  {
   "cell_type": "code",
   "execution_count": 18,
   "metadata": {},
   "outputs": [],
   "source": [
    "#constraint to set the values of y[ijk1] for all products where j < i, in subsequent loops\n",
    "m.addConstrs(y[i,j,k,1] >= z[i,k] + z[j,k+1] - 1 - sum(z[u,k] for u in nprod if u>i) - sum(z[v,k+1] for v in nprod if v<j)\n",
    "                for j in nprod for i in nprod for k in range(loops-1));"
   ]
  },
  {
   "cell_type": "code",
   "execution_count": 19,
   "metadata": {},
   "outputs": [],
   "source": [
    "#Constraint to ensure that the changeover between products in subsequent loops\n",
    "#happen from higher index to lower index only.\n",
    "m.addConstrs(y[i,j,k,1] == 0 for i in nprod for j in nprod if j>i for k in range(loops-1) );\n",
    "\n",
    "#Observation: Necessary constraint otherwise y[0,1,0,0] and y[0,1,0,1] are being set to 1, which cannot happen. "
   ]
  },
  {
   "cell_type": "code",
   "execution_count": 20,
   "metadata": {},
   "outputs": [],
   "source": [
    "#Sharat -> 5/12/19, Constraint to avoid changeover between the same product between different loops\n",
    "m.addConstrs(y[i,i,k,0] == 0 for i in nprod for k in nloops );\n",
    "m.addConstrs(y[i,i,k,1] == 0 for i in nprod for k in range(loops-1) );"
   ]
  },
  {
   "cell_type": "code",
   "execution_count": 21,
   "metadata": {},
   "outputs": [
    {
     "data": {
      "text/plain": [
       "{(0, 0): <gurobi.Constr *Awaiting Model Update*>,\n",
       " (0, 1): <gurobi.Constr *Awaiting Model Update*>,\n",
       " (1, 0): <gurobi.Constr *Awaiting Model Update*>,\n",
       " (1, 1): <gurobi.Constr *Awaiting Model Update*>,\n",
       " (2, 0): <gurobi.Constr *Awaiting Model Update*>,\n",
       " (2, 1): <gurobi.Constr *Awaiting Model Update*>}"
      ]
     },
     "execution_count": 21,
     "metadata": {},
     "output_type": "execute_result"
    }
   ],
   "source": [
    "#Constraints to ensure changeover from product i to any other product j!=i happens only once in the same loop or between subsequent loop\n",
    "m.addConstrs(quicksum(y[i,j,k,0] for j in nprod if j>i) <= 1 for i in nprod for k in nloops)\n",
    "m.addConstrs(quicksum(y[i,j,k,1] for j in nprod if j<i) <= 1 for i in nprod for k in range(loops-1))\n",
    "\n",
    "#Ensure y[ijku] is 1 or 0 when it is expected to be that value. This is necessary as it does not allow the system to play around the\n",
    "#values of these variables.\n",
    "m.addConstrs(y[i,j,k,0] <= (z[i,k] + z[j,k] + 0.9)/2 for i in nprod for j in nprod for k in nloops if j>i)\n",
    "m.addConstrs(y[i,j,k,1] <= (z[i,k] + z[j,k+1] + 0.9)/2 for i in nprod for j in nprod for k in range(loops-1) if j<i)\n",
    "\n",
    "#Ensures z is indeed zero when it is expected to be zero.This is necessary as it does not allow the system to play around the\n",
    "#values of these variables.\n",
    "m.addConstrs(z[i,k] <= x[i,k]*T for i in nprod for k in nloops)  #Could lead to infeasibility (any product when manufacutred must be for min of few minutes.)\n",
    "\n",
    "#Observation: The constraint above \"z[i,k] <= x[i,k]*T\" requires 1>=x[i,k] or x[i,k]=0. O/w it could make the system infeasible. "
   ]
  },
  {
   "cell_type": "code",
   "execution_count": 22,
   "metadata": {},
   "outputs": [],
   "source": [
    "#Constraints to ensure that a loop in between is not skipped\n",
    "\n",
    "m.addConstr(W[0] == 1); #Ensures loop 0 is definitely used\n",
    "m.addConstrs(W[k] >= z[i,k] for i in nprod for k in nloops); #Pushed W to be 1 if any product i is produced in loop k\n",
    "m.addConstrs(W[k] <= sum(z[i,k] for i in nprod) for k in nloops); #Ensures W is indeed zero when we expect it to be zero\n",
    "m.addConstrs(W[k+1] <= W[k] for k in range(loops-1)); # loop k+1 cannot be used unless k is used"
   ]
  },
  {
   "cell_type": "code",
   "execution_count": 23,
   "metadata": {},
   "outputs": [
    {
     "data": {
      "text/plain": [
       "{(0, 0): <gurobi.Constr *Awaiting Model Update*>,\n",
       " (0, 1): <gurobi.Constr *Awaiting Model Update*>,\n",
       " (1, 0): <gurobi.Constr *Awaiting Model Update*>,\n",
       " (1, 1): <gurobi.Constr *Awaiting Model Update*>,\n",
       " (2, 0): <gurobi.Constr *Awaiting Model Update*>,\n",
       " (2, 1): <gurobi.Constr *Awaiting Model Update*>}"
      ]
     },
     "execution_count": 23,
     "metadata": {},
     "output_type": "execute_result"
    }
   ],
   "source": [
    "#Constraints to ensure that when a product i is produced, it is produced for at least the given minimum lot size.\n",
    "m.addConstrs(x[i,k]*prod_rate[i] >= z[i,k]*Min_lot[i] for i in nprod for k in nloops)\n"
   ]
  },
  {
   "cell_type": "code",
   "execution_count": 24,
   "metadata": {},
   "outputs": [
    {
     "data": {
      "text/plain": [
       "{(0, 0): <gurobi.Constr *Awaiting Model Update*>,\n",
       " (1, 0): <gurobi.Constr *Awaiting Model Update*>,\n",
       " (2, 0): <gurobi.Constr *Awaiting Model Update*>}"
      ]
     },
     "execution_count": 24,
     "metadata": {},
     "output_type": "execute_result"
    }
   ],
   "source": [
    "#-----------Dummy Product Constraint-------------------\n",
    "#Constraints to ensure that the operation starts with dummy product-zero and \n",
    "#there is exactly one changeover from it in the entire cycle. \n",
    "m.addConstr(quicksum(y[0,j,0,0] for j in nprod if j!=0) == 1)\n",
    "#m.addConstrs(quicksum(y[0,j,k,1] for j in nprod) == 0 for k in range(loops-1))\n",
    "#m.addConstrs(quicksum(y[j,0,k,0] for j in nprod) == 0 for k in nloops)  #not required as the changeover is always from lower index to higher index in the same loop\n",
    "m.addConstrs(y[j,0,k,1] == 0 for j in nprod for k in range(loops-1))\n"
   ]
  },
  {
   "cell_type": "markdown",
   "metadata": {},
   "source": [
    "# Solving the model"
   ]
  },
  {
   "cell_type": "code",
   "execution_count": 25,
   "metadata": {
    "scrolled": true
   },
   "outputs": [
    {
     "name": "stdout",
     "output_type": "stream",
     "text": [
      "Optimize a model with 110 rows, 66 columns and 297 nonzeros\n",
      "Variable types: 16 continuous, 50 integer (44 binary)\n",
      "Coefficient statistics:\n",
      "  Matrix range     [1e-03, 5e+04]\n",
      "  Objective range  [2e+00, 1e+01]\n",
      "  Bounds range     [1e+00, 1e+08]\n",
      "  RHS range        [5e-01, 2e+03]\n",
      "Presolve removed 93 rows and 53 columns\n",
      "Presolve time: 0.00s\n",
      "Presolved: 17 rows, 13 columns, 61 nonzeros\n",
      "Variable types: 0 continuous, 13 integer (3 binary)\n",
      "Found heuristic solution: objective 800.0000000\n",
      "Found heuristic solution: objective 750.0000000\n",
      "Found heuristic solution: objective 336.0000000\n",
      "\n",
      "Root relaxation: objective 0.000000e+00, 6 iterations, 0.00 seconds\n",
      "\n",
      "    Nodes    |    Current Node    |     Objective Bounds      |     Work\n",
      " Expl Unexpl |  Obj  Depth IntInf | Incumbent    BestBd   Gap | It/Node Time\n",
      "\n",
      "     0     0    0.00000    0    6  336.00000    0.00000   100%     -    0s\n",
      "H    0     0                     200.0000000    0.00000   100%     -    0s\n",
      "H    0     0                     150.0000000    0.00000   100%     -    0s\n",
      "H    0     0                      24.0000000    0.00000   100%     -    0s\n",
      "H    0     0                      16.0000000    0.00000   100%     -    0s\n",
      "     0     0     cutoff    0        16.00000   16.00000  0.00%     -    0s\n",
      "\n",
      "Cutting planes:\n",
      "  Learned: 1\n",
      "  Mod-K: 1\n",
      "\n",
      "Explored 1 nodes (6 simplex iterations) in 0.03 seconds\n",
      "Thread count was 8 (of 8 available processors)\n",
      "\n",
      "Solution count 7: 16 24 150 ... 800\n",
      "\n",
      "Optimal solution found (tolerance 1.00e-04)\n",
      "Best objective 1.600000000000e+01, best bound 1.600000000000e+01, gap 0.0000%\n"
     ]
    }
   ],
   "source": [
    "start_time = time.time() #Optimization begins\n",
    "m.optimize();             \n",
    "end_time = time.time() #Optimization ends\n"
   ]
  },
  {
   "cell_type": "code",
   "execution_count": 26,
   "metadata": {},
   "outputs": [
    {
     "name": "stdout",
     "output_type": "stream",
     "text": [
      "The optimal obj. value: 16.0\n"
     ]
    }
   ],
   "source": [
    "#Code snippet to retrieve solution\n",
    "sol = []\n",
    "for v in m.getVars():\n",
    "    sol.append((v.Varname, v.X))\n",
    "    #print(\"%s %f\" % (v.Varname, v.X))\n",
    "print(\"The optimal obj. value: \"+str(m.objVal))    \n",
    "#m.write(\"Backlog_minimization.sol\");"
   ]
  },
  {
   "cell_type": "code",
   "execution_count": 27,
   "metadata": {},
   "outputs": [
    {
     "name": "stdout",
     "output_type": "stream",
     "text": [
      "Run-time of the model: 0.039893388748168945 sec\n"
     ]
    }
   ],
   "source": [
    "print(\"Run-time of the model: \"+str(end_time-start_time)+\" sec\")"
   ]
  },
  {
   "cell_type": "code",
   "execution_count": 28,
   "metadata": {},
   "outputs": [
    {
     "data": {
      "text/plain": [
       "[[0, 1, 0, 0], [1, 2, 0, 0], [2, 1, 0, 1], [1, 2, 1, 0]]"
      ]
     },
     "execution_count": 28,
     "metadata": {},
     "output_type": "execute_result"
    }
   ],
   "source": [
    "#Added by Sharat on 10/18/19 to retrieve only the activated changeover binary variable.\n",
    "\n",
    "solx=[]\n",
    "solx= m.getAttr('x', x)   \n",
    "soly=[]\n",
    "soly= m.getAttr('x', y)   \n",
    "solz=[]\n",
    "solz= m.getAttr('x', z)   \n",
    "\n",
    "Final_soly =[] \n",
    "Sequence = []\n",
    "proctime = []\n",
    "\n",
    "for k in nloops:\n",
    "    for i in nprod:\n",
    "        for j in nprod:\n",
    "            for L in range(0,2):\n",
    "                if soly[i,j,k,L] == 1:\n",
    "                    Final_soly.append([i,j,k,L])\n",
    "                    \n",
    "\n",
    "Final_soly\n",
    "#Sequence\n",
    "#proctime\n",
    "#print(\"time taken = \"+str(end_time-start_time))"
   ]
  },
  {
   "cell_type": "code",
   "execution_count": 29,
   "metadata": {},
   "outputs": [
    {
     "name": "stdout",
     "output_type": "stream",
     "text": [
      "z(0,0) = 1.0\n",
      "z(1,0) = 1.0\n",
      "z(2,0) = 1.0\n",
      "z(1,1) = 1.0\n",
      "z(2,1) = 1.0\n"
     ]
    }
   ],
   "source": [
    "for k in nloops:\n",
    "    for i in nprod:\n",
    "        if solz[i,k] ==1:\n",
    "            print(\"z(\"+str(i)+\",\"+str(k)+\")\"+\" = \"+str(solz[i,k]))"
   ]
  },
  {
   "cell_type": "code",
   "execution_count": 30,
   "metadata": {},
   "outputs": [
    {
     "name": "stdout",
     "output_type": "stream",
     "text": [
      "x(0,0) = 1.0\n",
      "x(1,0) = 3.0\n",
      "x(2,0) = 4.0\n",
      "x(1,1) = 25.0\n",
      "x(2,1) = 10.0\n"
     ]
    }
   ],
   "source": [
    "for k in nloops:\n",
    "    for i in nprod:\n",
    "        if solx[i,k] > 0:\n",
    "            #print(\"processing time of product \"+str(i)+\" in loop \"+str(k)+\" = \"+str(solx[i,k]))\n",
    "            print(\"x(\"+str(i)+\",\"+str(k)+\")\"+\" = \"+str(solx[i,k]))\n",
    "                    \n",
    "        \n",
    "                "
   ]
  },
  {
   "cell_type": "code",
   "execution_count": 31,
   "metadata": {},
   "outputs": [
    {
     "data": {
      "text/plain": [
       "{0: <gurobi.Var I_final[0] (value 0.0)>,\n",
       " 1: <gurobi.Var I_final[1] (value 504.0)>,\n",
       " 2: <gurobi.Var I_final[2] (value 218.0)>}"
      ]
     },
     "execution_count": 31,
     "metadata": {},
     "output_type": "execute_result"
    }
   ],
   "source": [
    "I_last"
   ]
  },
  {
   "cell_type": "code",
   "execution_count": 32,
   "metadata": {},
   "outputs": [
    {
     "data": {
      "text/plain": [
       "<gurobi.Var cycle time (value 57.0)>"
      ]
     },
     "execution_count": 32,
     "metadata": {},
     "output_type": "execute_result"
    }
   ],
   "source": [
    "t"
   ]
  },
  {
   "cell_type": "code",
   "execution_count": 33,
   "metadata": {},
   "outputs": [],
   "source": [
    "df = pd.DataFrame(sol)\n",
    "df.to_csv(\"Solutions_formulation_new.csv\", header = [\"Name\",\"Value\"], index = False)"
   ]
  },
  {
   "cell_type": "code",
   "execution_count": 34,
   "metadata": {},
   "outputs": [],
   "source": [
    "inv_val = [[prod, round(x[prod,loop].X,2),round(inv_k[prod,loop].X,2)] for prod in nprod for loop in nloops]\n",
    "inv_val = np.array(inv_val)"
   ]
  },
  {
   "cell_type": "code",
   "execution_count": 35,
   "metadata": {},
   "outputs": [
    {
     "data": {
      "text/plain": [
       "array([[ 0.,  1.,  0.],\n",
       "       [ 0.,  0.,  0.],\n",
       "       [ 1.,  3.,  0.],\n",
       "       [ 1., 25.,  4.],\n",
       "       [ 2.,  4., -8.],\n",
       "       [ 2., 10.,  8.]])"
      ]
     },
     "execution_count": 35,
     "metadata": {},
     "output_type": "execute_result"
    }
   ],
   "source": [
    "inv_val"
   ]
  },
  {
   "cell_type": "code",
   "execution_count": 36,
   "metadata": {},
   "outputs": [],
   "source": [
    "import matplotlib.pyplot as plt"
   ]
  },
  {
   "cell_type": "code",
   "execution_count": 37,
   "metadata": {},
   "outputs": [
    {
     "name": "stdout",
     "output_type": "stream",
     "text": [
      "1.0 0.0\n",
      "0.0 0.0\n"
     ]
    },
    {
     "data": {
      "image/png": "[encoded data removed]",
      "text/plain": [
       "<Figure size 432x288 with 1 Axes>"
      ]
     },
     "metadata": {
      "needs_background": "light"
     },
     "output_type": "display_data"
    }
   ],
   "source": [
    "for item in range(len(inv_val)):\n",
    "    if inv_val[item,0] == 0:\n",
    "        print(inv_val[item,1], inv_val[item,2])\n",
    "        plt.plot(inv_val[item,1], inv_val[item,2], 'ro')\n",
    "plt.show()"
   ]
  }
 ],
 "metadata": {
  "kernelspec": {
   "display_name": "Python 3",
   "language": "python",
   "name": "python3"
  },
  "language_info": {
   "codemirror_mode": {
    "name": "ipython",
    "version": 3
   },
   "file_extension": ".py",
   "mimetype": "text/x-python",
   "name": "python",
   "nbconvert_exporter": "python",
   "pygments_lexer": "ipython3",
   "version": "3.7.1"
  }
 },
 "nbformat": 4,
 "nbformat_minor": 2
}
